{
 "cells": [
  {
   "cell_type": "markdown",
   "metadata": {},
   "source": [
    "## Import libraries"
   ]
  },
  {
   "cell_type": "code",
   "execution_count": 1,
   "metadata": {},
   "outputs": [],
   "source": [
    "%matplotlib inline\n",
    "import numpy as np\n",
    "import matplotlib.pyplot as plt\n",
    "from mpl_toolkits import mplot3d\n",
    "from sklearn.decomposition import PCA"
   ]
  },
  {
   "cell_type": "markdown",
   "metadata": {},
   "source": [
    "## Use PCA to reduce the dimensions of the embedding"
   ]
  },
  {
   "cell_type": "code",
   "execution_count": 2,
   "metadata": {},
   "outputs": [],
   "source": [
    "def pca_transform(arr1, arr2, arr3, arr4, dim):\n",
    "    vectors = np.vstack((arr1, arr2, arr3, arr4))\n",
    "    # Set the number of dimensions PCA will reduce to\n",
    "    pca = PCA(n_components=dim)\n",
    "    pca.fit(vectors)\n",
    "    new_pca = pca.transform(vectors)\n",
    "    print(\"original shape:   \", vectors.shape)\n",
    "    print(\"transformed shape:\", new_pca.shape)\n",
    "    return(new_pca)"
   ]
  },
  {
   "cell_type": "markdown",
   "metadata": {},
   "source": [
    "## Draw a 2d graph with the new dimensions"
   ]
  },
  {
   "cell_type": "code",
   "execution_count": 9,
   "metadata": {},
   "outputs": [],
   "source": [
    "def two_d_graph(reduced_dims):\n",
    "    colors = (\"red\", \"green\", \"blue\", \"orange\")\n",
    "    groups = (\"King\", \"Queen\", \"Man\", \"Woman\") \n",
    " \n",
    "    # Create plot\n",
    "    fig = plt.figure()\n",
    "    ax = fig.gca()\n",
    " \n",
    "    for data, color, group in zip(reduced_dims, colors, groups):\n",
    "        x, y = data\n",
    "        ax.scatter(x, y, alpha=0.8, c=color, edgecolors='none', s=30, label=group)\n",
    " \n",
    "    plt.title('Reduced vocab set')\n",
    "    plt.legend(loc=1)\n",
    "    plt.show()"
   ]
  },
  {
   "cell_type": "markdown",
   "metadata": {},
   "source": [
    "## Transform the 4 dimensions to 2 via PCA"
   ]
  },
  {
   "cell_type": "code",
   "execution_count": 10,
   "metadata": {},
   "outputs": [],
   "source": [
    "def vectors(a, b, c, d):\n",
    "    emba = np.array(a)\n",
    "    embb = np.array(b)\n",
    "    embc = np.array(c)\n",
    "    embd = np.array(d)\n",
    "    new_dim = pca_transform(emba, embb, embc, embd, 2)\n",
    "    two_d_graph(new_dim)"
   ]
  },
  {
   "cell_type": "code",
   "execution_count": 11,
   "metadata": {},
   "outputs": [
    {
     "name": "stdout",
     "output_type": "stream",
     "text": [
      "original shape:    (4, 4)\n",
      "transformed shape: (4, 2)\n"
     ]
    },
    {
     "data": {
      "image/png": "[encoded data removed]",
      "text/plain": [
       "<matplotlib.figure.Figure at 0x7f674996da58>"
      ]
     },
     "metadata": {},
     "output_type": "display_data"
    }
   ],
   "source": [
    "vectors([1,0,0,0], [0,1,0,0], [0,0,1,0], [0,0,0,1])"
   ]
  }
 ],
 "metadata": {
  "kernelspec": {
   "display_name": "Environment (conda_tensorflow_p36)",
   "language": "python",
   "name": "conda_tensorflow_p36"
  },
  "language_info": {
   "codemirror_mode": {
    "name": "ipython",
    "version": 3
   },
   "file_extension": ".py",
   "mimetype": "text/x-python",
   "name": "python",
   "nbconvert_exporter": "python",
   "pygments_lexer": "ipython3",
   "version": "3.6.3"
  }
 },
 "nbformat": 4,
 "nbformat_minor": 2
}
