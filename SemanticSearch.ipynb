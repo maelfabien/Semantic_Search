{
 "cells": [
  {
   "cell_type": "markdown",
   "metadata": {},
   "source": [
    "<center><h1>Semantic Search</h1></center>\n",
    "<center> - </center>\n",
    "<center> Exploring Embedding techniques and Similarity Measures </center>"
   ]
  },
  {
   "cell_type": "markdown",
   "metadata": {},
   "source": [
    "The task is to develop a semantic search engine. We have a corpus of texts. Since there is a large amount of documents, we want to run small search queries so that is returns texts that are semantically close to the query."
   ]
  },
  {
   "cell_type": "markdown",
   "metadata": {},
   "source": [
    "The process can be illustrated the following way :"
   ]
  },
  {
   "cell_type": "markdown",
   "metadata": {},
   "source": [
    "<img src=\"images/process.png\">"
   ]
  },
  {
   "cell_type": "markdown",
   "metadata": {},
   "source": [
    "# Imports"
   ]
  },
  {
   "cell_type": "code",
   "execution_count": 8,
   "metadata": {
    "ExecuteTime": {
     "end_time": "2019-03-28T22:44:29.306152Z",
     "start_time": "2019-03-28T22:44:29.292951Z"
    }
   },
   "outputs": [],
   "source": [
    "### General ###\n",
    "import pandas as pd\n",
    "import numpy as np\n",
    "import matplotlib.pyplot as plt; plt.rcdefaults()\n",
    "import re\n",
    "\n",
    "from sklearn.model_selection import train_test_split\n",
    "\n",
    "### Text processing ###\n",
    "from nltk import wordpunct_tokenize, WordNetLemmatizer, sent_tokenize, pos_tag\n",
    "from nltk.corpus import stopwords as sw, wordnet as wn\n",
    "from keras.preprocessing.text import Tokenizer\n",
    "from keras.preprocessing.sequence import pad_sequences\n",
    "import string \n",
    "import spacy\n",
    "from tqdm import tqdm\n",
    "from nltk.tokenize import RegexpTokenizer\n",
    "\n",
    "### Pre-trained model ###\n",
    "import tensorflow as tf\n",
    "import tensorflow_hub as hub\n",
    "\n",
    "### Live Search Engine ###\n",
    "from IPython.core.magic import (register_line_magic, register_cell_magic,\n",
    "                                register_line_cell_magic)"
   ]
  },
  {
   "cell_type": "code",
   "execution_count": 9,
   "metadata": {
    "ExecuteTime": {
     "end_time": "2019-03-28T22:44:30.718910Z",
     "start_time": "2019-03-28T22:44:30.051373Z"
    }
   },
   "outputs": [],
   "source": [
    "EN = spacy.load('en')"
   ]
  },
  {
   "cell_type": "markdown",
   "metadata": {},
   "source": [
    "# The data"
   ]
  },
  {
   "cell_type": "markdown",
   "metadata": {},
   "source": [
    "### Elon Musk's Tweets"
   ]
  },
  {
   "cell_type": "markdown",
   "metadata": {},
   "source": [
    "To replicate the kind of messages we would observe in a message app, I have chosen to explore Elon Musk's tweets data set : https://data.world/adamhelsinger/elon-musk-tweets-until-4-6-17"
   ]
  },
  {
   "cell_type": "code",
   "execution_count": 185,
   "metadata": {
    "ExecuteTime": {
     "end_time": "2019-03-28T16:25:13.585786Z",
     "start_time": "2019-03-28T16:25:13.500127Z"
    }
   },
   "outputs": [
    {
     "data": {
      "text/plain": [
       "0    b'And so the robots spared humanity ... https:...\n",
       "1    b\"@ForIn2020 @waltmossberg @mims @defcon_5 Exa...\n",
       "2        b'@waltmossberg @mims @defcon_5 Et tu, Walt?'\n",
       "3                  b'Stormy weather in Shortville ...'\n",
       "4    b\"@DaveLeeBBC @verge Coal is dying due to nat ...\n",
       "5    b\"@Lexxxzis It's just a helicopter in helicopt...\n",
       "6                            b\"@verge It won't matter\"\n",
       "7                        b'@SuperCoolCube Pretty good'\n",
       "8    b\"Why did we waste so much time developing sil...\n",
       "9    b'Technology breakthrough: turns out chemtrail...\n",
       "Name: text, dtype: object"
      ]
     },
     "execution_count": 185,
     "metadata": {},
     "output_type": "execute_result"
    }
   ],
   "source": [
    "tweets = pd.read_csv('tweets.csv')['text']\n",
    "tweets.head(10)"
   ]
  },
  {
   "cell_type": "code",
   "execution_count": 186,
   "metadata": {
    "ExecuteTime": {
     "end_time": "2019-03-28T16:25:14.658792Z",
     "start_time": "2019-03-28T16:25:14.651106Z"
    }
   },
   "outputs": [
    {
     "data": {
      "text/plain": [
       "(2819,)"
      ]
     },
     "execution_count": 186,
     "metadata": {},
     "output_type": "execute_result"
    }
   ],
   "source": [
    "tweets.shape"
   ]
  },
  {
   "cell_type": "markdown",
   "metadata": {},
   "source": [
    "### South Park Series Data"
   ]
  },
  {
   "cell_type": "markdown",
   "metadata": {},
   "source": [
    "https://github.com/BobAdamsEE/SouthParkData"
   ]
  },
  {
   "cell_type": "code",
   "execution_count": 72,
   "metadata": {
    "ExecuteTime": {
     "end_time": "2019-03-28T23:12:03.322861Z",
     "start_time": "2019-03-28T23:12:03.180889Z"
    }
   },
   "outputs": [
    {
     "data": {
      "text/plain": [
       "0           You guys, you guys! Chef is going away. \\n\n",
       "1                          Going away? For how long?\\n\n",
       "2                                           Forever.\\n\n",
       "3                                    I'm sorry boys.\\n\n",
       "4    Chef said he's been bored, so he joining a gro...\n",
       "5                                               Wow!\\n\n",
       "6    Chef?? What kind of questions do you think adv...\n",
       "7       What's the meaning of life? Why are we here?\\n\n",
       "8             I hope you're making the right choice.\\n\n",
       "9    I'm gonna miss him.  I'm gonna miss Chef and I...\n",
       "Name: Line, dtype: object"
      ]
     },
     "execution_count": 72,
     "metadata": {},
     "output_type": "execute_result"
    }
   ],
   "source": [
    "south = pd.read_csv('All-seasons.csv')['Line'][:1000]\n",
    "south.head(10)"
   ]
  },
  {
   "cell_type": "code",
   "execution_count": 73,
   "metadata": {
    "ExecuteTime": {
     "end_time": "2019-03-28T23:12:03.391300Z",
     "start_time": "2019-03-28T23:12:03.380699Z"
    }
   },
   "outputs": [
    {
     "data": {
      "text/plain": [
       "(1000,)"
      ]
     },
     "execution_count": 73,
     "metadata": {},
     "output_type": "execute_result"
    }
   ],
   "source": [
    "south.shape"
   ]
  },
  {
   "cell_type": "markdown",
   "metadata": {},
   "source": [
    "# I . Pre-processing "
   ]
  },
  {
   "cell_type": "markdown",
   "metadata": {},
   "source": [
    "The first step our the semantic similarity search is to pre-process the text before apply any similarity metric or embedding on it. \n",
    "\n",
    "There are however several technical challenges :\n",
    "- Removal of stop words should be discussed, as it might be tricky if the search query contains several stop words\n",
    "- Users could be looking for specific words within an URL, so we should not remove the URLS\n",
    "- Split the text by sentences"
   ]
  },
  {
   "cell_type": "code",
   "execution_count": 74,
   "metadata": {
    "ExecuteTime": {
     "end_time": "2019-03-28T23:12:04.395077Z",
     "start_time": "2019-03-28T23:12:04.338380Z"
    }
   },
   "outputs": [],
   "source": [
    "def preprocess(document, max_features = 150, max_sentence_len = 300):\n",
    "    \"\"\"\n",
    "    Returns a normalized, lemmatized list of tokens from a document by\n",
    "    applying segmentation (breaking into sentences), then word/punctuation\n",
    "    tokenization, and finally part of speech tagging. It uses the part of\n",
    "    speech tags to look up the lemma in WordNet, and returns the lowercase\n",
    "    version of all the words, removing stopwords and punctuation.\n",
    "    \"\"\"\n",
    "    \n",
    "    i = 0\n",
    "    \n",
    "    def lemmatize(token, tag):\n",
    "        \"\"\"\n",
    "        Converts the tag to a WordNet POS tag, then uses that\n",
    "        tag to perform an accurate WordNet lemmatization.\n",
    "        \"\"\"\n",
    "        tag = {\n",
    "        'N': wn.NOUN,\n",
    "        'V': wn.VERB,\n",
    "        'R': wn.ADV,\n",
    "        'J': wn.ADJ\n",
    "        }.get(tag[0], wn.NOUN)\n",
    "\n",
    "        return WordNetLemmatizer().lemmatize(token, tag)\n",
    "\n",
    "    def vectorize(doc, max_features, max_sentence_len):\n",
    "        \"\"\"\n",
    "        Converts a document into a sequence of indices of length max_sentence_len retaining only max_features unique words\n",
    "        \"\"\"\n",
    "        tokenizer = Tokenizer(num_words=max_features)\n",
    "        tokenizer.fit_on_texts(doc)\n",
    "        doc = tokenizer.texts_to_sequences(doc)\n",
    "        doc_pad = pad_sequences(doc, padding = 'pre', truncating = 'pre', maxlen = max_sentence_len)\n",
    "        return np.squeeze(doc_pad), tokenizer.word_index\n",
    "\n",
    "    lemmatized_tokens = []\n",
    "\n",
    "    # Clean the text using a few regular expressions\n",
    "    document = re.sub(r\"[^A-Za-z0-9^,!.\\/'+-=]\", \" \", document)\n",
    "    document = re.sub(r\"what's\", \"what is \", document)\n",
    "    document = re.sub(r\"\\'\", \" \", document)\n",
    "    document = re.sub(r\"@\", \" \", document)\n",
    "    document = re.sub(r\"\\'ve\", \" have \", document)\n",
    "    document = re.sub(r\"can't\", \"cannot \", document)\n",
    "    document = re.sub(r\"n't\", \" not \", document)\n",
    "    document = re.sub(r\"i'm\", \"i am \", document)\n",
    "    document = re.sub(r\"\\'re\", \" are \", document)\n",
    "    document = re.sub(r\"\\'d\", \" would \", document)\n",
    "    document = re.sub(r\"\\'ll\", \" will \", document)\n",
    "    document = re.sub(r\"(\\d+)(k)\", r\"\\g<1>000\", document)\n",
    "    document = document.replace(\"\\n\", \" \")\n",
    "    \n",
    "    cleaned_document = []\n",
    "    \n",
    "    # Break the document into sentences\n",
    "    for sent in sent_tokenize(document):\n",
    "        lemmatized_tokens = []\n",
    "\n",
    "        # Break the sentence into part of speech tagged tokens\n",
    "        for token, tag in pos_tag(wordpunct_tokenize(sent)):\n",
    "\n",
    "            # Apply preprocessing to the tokens\n",
    "            token = token.lower()\n",
    "            token = token.strip()\n",
    "            token = token.strip('_')\n",
    "            token = token.strip('*')\n",
    "\n",
    "            # If punctuation ignore token and continue\n",
    "            if all(char in set(string.punctuation) for char in token): #token in set(sw.words('english')) or \n",
    "                continue\n",
    "\n",
    "            # Lemmatize the token\n",
    "            lemma = lemmatize(token, tag)\n",
    "            lemmatized_tokens.append(lemma)\n",
    "\n",
    "        cleaned_document.append(' '.join(lemmatized_tokens))\n",
    "    \n",
    "    \n",
    "    #vectorized_document, word_index = vectorize(cleaned_document, max_features, max_sentence_len)\n",
    "    #return vectorized_document, word_index\n",
    "    return cleaned_document"
   ]
  },
  {
   "cell_type": "code",
   "execution_count": 76,
   "metadata": {
    "ExecuteTime": {
     "end_time": "2019-03-28T23:12:07.020218Z",
     "start_time": "2019-03-28T23:12:05.942393Z"
    }
   },
   "outputs": [],
   "source": [
    "south = preprocess(str(list(south)))"
   ]
  },
  {
   "cell_type": "code",
   "execution_count": 77,
   "metadata": {
    "ExecuteTime": {
     "end_time": "2019-03-28T23:12:07.716441Z",
     "start_time": "2019-03-28T23:12:07.695714Z"
    }
   },
   "outputs": [
    {
     "data": {
      "text/plain": [
       "['you guy you guy',\n",
       " 'chef be go away',\n",
       " 'n go away for how long n forever',\n",
       " 'n i m sorry boy',\n",
       " 'n chef say he s be bore so he join a group call the super adventure club',\n",
       " 'n wow',\n",
       " 'n chef what kind of question do you think adventure around the world be gonna answer',\n",
       " 'n what s the meaning of life why be we here n i hope you re make the right choice',\n",
       " 'n i m gonna miss him',\n",
       " 'i m gonna miss chef and i and i don t know how to tell him',\n",
       " 'n dude how be we gonna go on chef be our fuh f ffriend',\n",
       " 'n and we will all miss you chef but we know you must do what your heart tell you n bye bye',\n",
       " 'n good bye',\n",
       " 'n so long',\n",
       " 'n so long chef',\n",
       " 'n good bye chef',\n",
       " 'n good bye chef',\n",
       " 'have a great time with the super adventure club',\n",
       " 'n good bye',\n",
       " 'n draw two card fatass',\n",
       " 'n reverse to you jew',\n",
       " 'n i ll get it',\n",
       " 'n hello there child',\n",
       " 'n he s back',\n",
       " 'n yeah',\n",
       " 'n all right',\n",
       " 'n chef',\n",
       " 'i can t believe you re back',\n",
       " 'n well it s true',\n",
       " 'n but be you back for good n that s right',\n",
       " 'n hey everybody',\n",
       " 'chef s back',\n",
       " 'n what all right',\n",
       " 'yeah',\n",
       " 'n oh finally',\n",
       " 'n wow',\n",
       " 'it seem like you have a great time with the super adventure club chef',\n",
       " 'they sound like really interesting people',\n",
       " 'n yeah',\n",
       " 'n but now that you re back here do that mean that you re not in the super adventure club anymore n nnono',\n",
       " 'n ohhh so have you decide you can still belong to the super adventure club but live here in south park again n that s right',\n",
       " 'n well it seem like the super adventure club be just what you need chef',\n",
       " 'you must be feel very happy that you find a club to belong to with new friend but that you can also live here in south park with all your old friend whom you care for deeply',\n",
       " 'right n that s right',\n",
       " 'randy',\n",
       " 'n well chef you re welcome to stay with me until you buy another house',\n",
       " 'n thank you',\n",
       " 'jimbo',\n",
       " 'n well come on everybody',\n",
       " 'i m sure chef would like a little time to get move back in',\n",
       " 'n that s right',\n",
       " 'thank you',\n",
       " 'good bye everybody',\n",
       " 'n later',\n",
       " 'great to have you back',\n",
       " 'bye bye',\n",
       " 'see ya chef',\n",
       " 'see you later',\n",
       " 'bye bye n well i guess we ll see you in school tomorrow chef',\n",
       " 'n you bet',\n",
       " 'good bye',\n",
       " 'child',\n",
       " 'n right',\n",
       " 'uh see ya',\n",
       " 'n uh guy did chef seem a little uh trippy to you n well look',\n",
       " 'he say he s happy now',\n",
       " 'maybe he just need to rest up a little',\n",
       " 'n yeah',\n",
       " 'i m sure whatever that super adventure club do be pretty tire',\n",
       " 'n yeah but whatever i m just glad he s back for good',\n",
       " 'n yeah me too',\n",
       " 'n it s really weird what he say',\n",
       " 'i don t know it kind of confused me',\n",
       " 'n oh boy oh boy i can t wait to have chef s lunch food again',\n",
       " 'n yeah',\n",
       " 'i hope he make his salisbury steak with buttered noodle',\n",
       " 'n you guy you guy',\n",
       " 'n what n something s wrong with chef',\n",
       " 'he s say some really weird stuff',\n",
       " 'n like what n i think',\n",
       " 'i think he want to have sex with me',\n",
       " 'n what n i gotta i gotta go',\n",
       " 'n weirdo',\n",
       " 'n hello there child',\n",
       " 'n hey chef',\n",
       " 'n how s it goin n good',\n",
       " 'n well how about i meet you boys after work and we make love n excuse me n come on child',\n",
       " 'you re my sexual fantasy',\n",
       " 'let s all make sweet love',\n",
       " 'n chef a be you okay n i want to stick my ball inside your rectum kyle',\n",
       " 'n dude what be you say n i m gonna make love to your asshole child',\n",
       " 'n what n hi kid i m detective jarvis',\n",
       " 'i need to ask you all some difficult question about your school cafeteria chef',\n",
       " 'n this doesn t make any sense',\n",
       " 'n we have some information that all this time chef have be and still be a pedophile',\n",
       " 'n no he s not',\n",
       " 'n uh huh',\n",
       " 'n no he s not',\n",
       " 'n yeah yeah he be so',\n",
       " 'n what s a pedophile n now we need some testimony in order to arrest chef so i m gonna use this doll to ask you kid a few question',\n",
       " 'did chef ever touch any of you here n no',\n",
       " 'n okay do he touch you here n no',\n",
       " 'n did he ever do this how about this n my uncle bud do that to me once',\n",
       " 'n did chef ever try one of these on for size n goddammit chef isn t like that',\n",
       " 'something funny be go on around here',\n",
       " 'n young man will you please pay attention',\n",
       " 'this be very important stuff',\n",
       " 'ohhh',\n",
       " 'ohhhhhh',\n",
       " 'n hello there child',\n",
       " 'n chef the police be ask question about you',\n",
       " 'n oh really well let s all go home and make love',\n",
       " 'n no chef we don t wanna make love to you',\n",
       " 'n kenny how would you like to sodomize my black as n chef chef',\n",
       " 'you need to get out of here before you get arrest all right',\n",
       " 'n i specialize in your asshole kyle',\n",
       " 'n man i can t believe all this time chef just want u for sex',\n",
       " 'n he didn t want u for sex fatass',\n",
       " 'something be make him say those thing',\n",
       " 'n like what n something must have happen to chef while he be go',\n",
       " 'maybe he hit his head or or get stick in some quantum time vortex',\n",
       " 'n well look he spend the last three month with that adventurer club',\n",
       " 'maybe they know what happen to him',\n",
       " 'n yeah',\n",
       " 'i think n yeah',\n",
       " 'n all right come on guy',\n",
       " 'n hey you guy you know what they call a jewish woman s boobs jewbs',\n",
       " 'n may i help you',\n",
       " 'n ahh hi can we speak to the head guy or something n right this way',\n",
       " 'n now the upper rim of kilimanjaro should be quite a trek and so we ll need to have a n excuse me sir',\n",
       " 'these boy want to speak with you',\n",
       " 'n ahh yes splendid',\n",
       " 'good afternoon lads',\n",
       " 'i m head adventurer william p connolly esquire',\n",
       " 'welcome to the super adventure club',\n",
       " 'n tally ho',\n",
       " 'n indeed',\n",
       " 'n uh hi',\n",
       " 'our friend join your club a while back and now he want to molest kid',\n",
       " 'n what well well yes of course',\n",
       " 'that s what the super adventure club do',\n",
       " 'n huh n we travel the world and have sex with child',\n",
       " 'n yes what else would we do n well we think you go explore and like hunt and stuff',\n",
       " 'n noo no that s the adventure club',\n",
       " 'we re the super adventure club',\n",
       " 'next week we ll be head to the out bank of the amazon where we will make camp and have sex with child of the ugani tribe then it s off to the mighty himalaya where we will climb k 2 and molest several tibetan child on the east summit',\n",
       " 'n dude',\n",
       " 'n i know but it get even good',\n",
       " 'from there we will kayak to the fruitful bank of the mele river in africa where the secret and mysterious hanimi people have child who have never see a white man s erect penis',\n",
       " 'of course we re always look for kid to have sex with on the plane rid over to these place so how would you all like to join the super adventure club',\n",
       " 'n no',\n",
       " 'n no oh really perhaps i should ask you again how would you like to join the super adventure club n no',\n",
       " 'n dude what be you do',\n",
       " 'n oh well it doesn t work on everybody',\n",
       " 'well so long then',\n",
       " 'n just what the hell be that thing',\n",
       " 'n what what thing i don t see anything',\n",
       " 'n ha',\n",
       " 'i know it',\n",
       " 'n knew what n the reason chef have be say those terrible thing about u be because he s be brainwash',\n",
       " 'by this fruity little club',\n",
       " 'n oh son of a bitch',\n",
       " 'n come on child',\n",
       " 'let s all go home and make love',\n",
       " 'n you need to see a psychiatrist chef',\n",
       " 'it s for your own good',\n",
       " 'n i just like to make love up your butt',\n",
       " 'n oh my god',\n",
       " 'n mr',\n",
       " 'chef be it n all right come on',\n",
       " 'n hello i m dr neeland',\n",
       " 'what can i do for you today n hi uh our friend have be brainwash by some fruity little club',\n",
       " 'n brainwashed',\n",
       " 'n yeah he join the super adventure club and they convince him have sex with child be okay with a little thing that go whrrrrrr',\n",
       " 'n i think that club be for hiking and kayaking',\n",
       " 'n no that s the adventure club',\n",
       " 'the super adventure club have sex with child',\n",
       " 'n oh',\n",
       " 'oh that s right yeah',\n",
       " 'n doctor do you have child n why yes i have two young boy',\n",
       " 'n have you all be sodomize your child too n you say he s never be like this before n no chef have always be super cool',\n",
       " 'n i m gonna make love to the child',\n",
       " 'n he s pretty brainwash all right',\n",
       " 'worst case i ve ever see',\n",
       " 'n so what can we do n i m afraid there s no simple answer',\n",
       " 'when somebody s brainwash it can take month even year to reverse the process',\n",
       " 'n but we don t have year',\n",
       " 'if chef keep this up he s gonna go to jail forever',\n",
       " 'n tell me what be chef s favorite thing to do before it be have sex with child n have sex with woman',\n",
       " 'n then that s it',\n",
       " 'we d good get your friend to the peppermint hippo right away',\n",
       " 'n all right guy be sure to tip the waitress this be two for one put your hand together this be monique',\n",
       " 'n aw come on child',\n",
       " 'let s go home',\n",
       " 'n this isn t work',\n",
       " 'n well let s give it some more time kid',\n",
       " 'n would you like to daaance n no thanks',\n",
       " 'we re try to unbrainwash our friend',\n",
       " 'n daaance anybody wanna daaance n come on bitch',\n",
       " 'dance',\n",
       " 'n up yours fatty',\n",
       " 'n bitch i ll twist your nut off',\n",
       " 'n all right guy help me feel it out to them we get a featured dancer come out next put your hand together for spontaneous bootay',\n",
       " 'n come on guy we might as well go',\n",
       " 'n god damn',\n",
       " 'n chef we re leave',\n",
       " 'n nono wait',\n",
       " 'let him go',\n",
       " 'n come here chubby',\n",
       " 'n wait a minute',\n",
       " 'n he s remember',\n",
       " 'n child',\n",
       " 'what have i do n it s okay chef',\n",
       " 'go on remember',\n",
       " 'n i m goinna i m gonna n come on chef',\n",
       " 'you can do it',\n",
       " 'n i m gonna make love to you woman gonna lay you down by the fire',\n",
       " 'n yay',\n",
       " 'n chef',\n",
       " 'n hey child everybody',\n",
       " 'i m back',\n",
       " 'ow',\n",
       " 'n great shot william',\n",
       " 'hit him with another',\n",
       " 'n oh',\n",
       " 'n chef',\n",
       " 'n tally ho lads',\n",
       " 'i must say you re start to become quite a thorn in my ball',\n",
       " 'n where s chef',\n",
       " 'what have you do with him',\n",
       " 'n he s safe',\n",
       " 'he s fast in the deprivation room and be read the super adventure club manual',\n",
       " 'we ve get to undo the damage you ve do',\n",
       " 'n look if you wanna go around the world molesting kid that s totally fine',\n",
       " 'but why do you need chef',\n",
       " 'n we don t need him he need u',\n",
       " 'our club offer hope',\n",
       " 'do you think we go around the world molest child just because it feel really really really really good',\n",
       " 'no',\n",
       " 'our club have a message',\n",
       " 'and a secret that explain the mystery of life',\n",
       " 'n oh jesus here we go',\n",
       " 'n very well',\n",
       " 'i m now go to tell you the secret of the super adventure club',\n",
       " 'n we don t wanna hear it',\n",
       " 'n you see the super adventure club be found by the great explorer of all time william p phinehas',\n",
       " 'phinehas climb the high peak tame the mighty river but every time he get somewhere he realize that other explorer have beat him to it',\n",
       " 'phinehas be depress until he realize that if he couldn t be the first to discover place he could be the first to have sex with the native child that inhabit those area',\n",
       " 'phinehas quickly go down in history book a the first man to have sex with the aborigine child at uluru and the first explorer to bugger all the underage mountainfolk of nepal',\n",
       " 'but now the most wonderful part',\n",
       " 'you see after have sex with all those child phinehas realize that molest all those kid have make him immortal',\n",
       " 'n immortal',\n",
       " 'n he discover that child have thing call marlocks in their body',\n",
       " 'and when an adult have sex with a child the marlocks implode feed the adult receptive cavity with energy that cause immortality so saith the ruler of bethos',\n",
       " 'phinehas travel the world love many many child and he live for eternity',\n",
       " 'until he be hit by a train in 1892 n do you realize how retarded that sound n be it any more retarded than the idea of god send his son to die for our sin be it any more retarded than buddha sit beneath a tree for twenty year n yeah it s way way more retarded',\n",
       " 'n well now that you know our club secret it appear you leave u no choice',\n",
       " 'i m afraid we re go to have to ask you to leave',\n",
       " 'n we re not leave without chef',\n",
       " 'n if you choose not to leave then i m afraid we re just go to have to call security and make you leave',\n",
       " 'you ll be let out by security and it will be super embarrassing and everyone here will see',\n",
       " 'okay you know how like when you want people to leave but they win t leave it s really frustrating n we re not go anywhere without chef',\n",
       " 'n cool people leave before they ve overstay their welcome',\n",
       " 'you petulant fool',\n",
       " 'you just have to push it didn t you you don t realize who you re deal with here',\n",
       " 'security',\n",
       " 'take these boy to the door',\n",
       " 'n all right come on kid',\n",
       " 'n no',\n",
       " 'hey',\n",
       " 'n haha',\n",
       " 'look they re be lead out by security',\n",
       " 'haha',\n",
       " 'n no you don t understand',\n",
       " 'they ve get our friend in the deprivation room',\n",
       " 'n this be their house and they don t want you here',\n",
       " 'n sorry dude but this fruity little club isn t take our friend',\n",
       " 'n and sex with eskimo child require some special skill',\n",
       " 'n chef come on',\n",
       " 'n child',\n",
       " 'n get out of here',\n",
       " 'n kenny',\n",
       " 'spin blossom nut squash',\n",
       " 'n yeeeeehah',\n",
       " 'n come on chef',\n",
       " 'n i can t break these lock',\n",
       " 'n here',\n",
       " 'n run chef',\n",
       " 'n what the impossible',\n",
       " 'i make them leave',\n",
       " 'n get outside',\n",
       " 'n stop them',\n",
       " 'n child',\n",
       " 'run',\n",
       " 'n stop',\n",
       " 'n we make it',\n",
       " 'n don t you remember why you leave south park in the first place n chef come on',\n",
       " 'n you seek adventure',\n",
       " 'and why do people seek adventure because their life have become dull and empty',\n",
       " 'n yeah he want adventure',\n",
       " 'not a bunch of ridiculous bullcrap',\n",
       " 'right chef chef n don t forget all your training chef',\n",
       " 'stay with u and your life will be grand and eternal',\n",
       " 'n chef we love you',\n",
       " 'n i m sorry child',\n",
       " 'n no',\n",
       " 'chef they ve fill your head with lie',\n",
       " 'can t you see that n get the hell out of here child',\n",
       " 'n yes',\n",
       " 'look like our fruity little club be safe after all',\n",
       " 'no',\n",
       " 'n chef',\n",
       " 'n ack',\n",
       " 'ow',\n",
       " 'oh',\n",
       " 'ah',\n",
       " 'oh',\n",
       " 'dammit',\n",
       " 'ah awww',\n",
       " 'n no',\n",
       " 'n a mountain lion',\n",
       " 'n we can t lose another member',\n",
       " 'shoot it',\n",
       " 'n ah',\n",
       " 'n all right this',\n",
       " 'n chef',\n",
       " 'n a grizzly bear',\n",
       " 'n oh my god',\n",
       " 'they kill chef',\n",
       " 'n you bastards',\n",
       " 'you bastards',\n",
       " 'n pity',\n",
       " 'he would have make an excellent child molester',\n",
       " 'n maybe maybe he s still okay',\n",
       " 'no really',\n",
       " 'they say the last thing you do before you die be crap your n pooot',\n",
       " 'n oh never mind',\n",
       " 'n come on let s go',\n",
       " 'n we re all here today because chef have be such an important part of our life',\n",
       " 'a lot of u don t agree with the choice chef have make in the past few day',\n",
       " 'some of u feel hurt and confuse that he seem to turn his back on u',\n",
       " 'but we can t let the event of the last week take away the memory of how much chef make u smile',\n",
       " 'i m gonna remember chef a the jolly old guy who always break into song',\n",
       " 'i m gonna remember chef a the guy who give u advice to live by',\n",
       " 'so you see we shouldn t be mad at chef for leave u',\n",
       " 'we should be mad at that little fruity club for scramble his brain',\n",
       " 'n yeah',\n",
       " 'n he s right',\n",
       " 'n and in the end i know that somewhere out there there s the good part of chef that s still alive in u all',\n",
       " 'n be it work be it work n yes',\n",
       " 'we ve get a pulse',\n",
       " 'n get him in the icu suit',\n",
       " 'hurry',\n",
       " 'we have do it',\n",
       " 'good',\n",
       " 'raise him up',\n",
       " 'chef can you hear me say something',\n",
       " 'n hello there child',\n",
       " 'how would you like some salisbury steak n yes go on',\n",
       " 'n and for desert how would you child like to suck on my chocolate salty ball n oh you mean like a chocolate candy n no i mean my ball',\n",
       " 'n yes yes',\n",
       " 'hahahahahahaaa',\n",
       " 'n hey there richard',\n",
       " 'n oh hey gerald',\n",
       " 'new car n yeah',\n",
       " 'it s a hybrid',\n",
       " 'i just',\n",
       " 'i just couldn t sit back and be a part of destroy the earth anymore',\n",
       " 'n well good for you',\n",
       " 'n oho',\n",
       " 'thanks',\n",
       " 'n well there go the new high and mighty gerald broflovski',\n",
       " 'n yeah ever since he get that new hybrid he think he s good than everyone else',\n",
       " 'n you know the emission from a vehicle like yours cause irreparable damage to the ozone',\n",
       " 'i drive a hybrid it s much good for the environment',\n",
       " 'thanks',\n",
       " 'n dad can we go home all you ever do since you get this car be drive around and show it off',\n",
       " 'n hey be that a hybrid n oh yes',\n",
       " 'you ve get one too i see',\n",
       " 'n yeah i like to be a part of the solution and not part of the problem',\n",
       " 'well anyway good for you',\n",
       " 'n thanks',\n",
       " 'n dad i think ike be starve to death',\n",
       " 'n hold on boy',\n",
       " 'we still have to go to the hardware store and hand out awareness citation to suv car in the parking lot',\n",
       " 'n what',\n",
       " 'n okay there s another one',\n",
       " 'aw man',\n",
       " 'look at that',\n",
       " 'can you believe this',\n",
       " 'an suv with a v8 engine make me sick',\n",
       " 'ticket for drive a gas guzzler n dad can we go home please n look there s a jeep over there',\n",
       " 'go write them a ticket kyle',\n",
       " 'n but dad i want n now kyle',\n",
       " 'n oh hey kyle',\n",
       " 'n aw hey dude',\n",
       " 'what be you do here n help my dad pick out some cool new power tool',\n",
       " 'what be you do n help my dad give people fake ticket',\n",
       " 'n what s this n oh',\n",
       " 'sorry randy',\n",
       " 'look like you get a ticket',\n",
       " 'n a ticket failure to care about the environment oh goddammit do you do this gerald',\n",
       " 'n yeah',\n",
       " 'i m just you know try to make people more aware ya know it s a n you get some nerve you know that',\n",
       " 'where do you come off ticket people',\n",
       " 'n well randy calm down',\n",
       " 'it s not a real ticket',\n",
       " 'n i know it s not a real ticket',\n",
       " 'n broflovski do you put this crap on my windshield',\n",
       " 'n jimbo your truck probably get less than ten mile to the gallon',\n",
       " 'n well thanks officer dickhole',\n",
       " 'n dad let s just go',\n",
       " 'n look i m just try to make the people of south park aware of a very serious problem',\n",
       " 'n the problem gerald be that ever since you get a hybrid car you ve gotten so smug that you love the smell of your own fart',\n",
       " 'n oh',\n",
       " 'i m sorry',\n",
       " 'i didn t think it be high and mighty to care about the earth',\n",
       " 'n and that too',\n",
       " 'stop talk with your eye close',\n",
       " 'that s what smug people do',\n",
       " 'n well i really don t see how that have anything to do with the n there like that',\n",
       " 'stop that',\n",
       " 'n who the hell put this faggy fake ticket on my truck',\n",
       " 'n all right that do it',\n",
       " 'come on kyle i don t want you hang around with these ignorant idiot',\n",
       " 'n yeah',\n",
       " 'yeah i think it s best we just do it right away',\n",
       " 'n dad',\n",
       " 'dad ike and i have be talk and well we feel that your new car be change you',\n",
       " 'n yes it certainly be',\n",
       " 'n we re think that a lot of people in town start too n take offense',\n",
       " 'n a be start to take offense at your action',\n",
       " 'we feel like you re start to become hmm n alienated',\n",
       " 'n star start to become alienate from some of your friend',\n",
       " 'n well i totally agree kyle',\n",
       " 'n you do n yes',\n",
       " 'a lot of people in town just aren t ready to drive hybrid car',\n",
       " 'n righ',\n",
       " 'okay good',\n",
       " 'n and that s why i ve talk it over with your mother and we ve decide to move',\n",
       " 'n what n we need to be where everyone be motivate and progressive like u',\n",
       " 'start get your thing pack boys',\n",
       " 'the broflovksi family be move to san francisco',\n",
       " 'n yeah n uh hay stan',\n",
       " 'uh you should come on over',\n",
       " 'uh they re havin a goin away party for kyle',\n",
       " 'n go away party what do you mean n well don t you know kyle s movin away',\n",
       " 'n move away kyle can t move away',\n",
       " 'n well he be',\n",
       " 'n where s the go away party n at cartman s house',\n",
       " 'n hey everybody',\n",
       " 'there s more pop in the refrigerator',\n",
       " 'let s make this the best go away party ever',\n",
       " 'n hey eric where s kyle n who n kyle the person leave',\n",
       " 'n kyle why would i invite kyle n dude a go away party be suppose to be for the person who be go away',\n",
       " 'n kyle kyle',\n",
       " 'n kyle s not here',\n",
       " 'cartman didn t invite him',\n",
       " 'n what',\n",
       " 'n you guy this be our party',\n",
       " 'that no good back stabbing jew rat be finally leave',\n",
       " 'come on everyone',\n",
       " 'let s sing',\n",
       " 'nanana na',\n",
       " 'nanana na',\n",
       " 'hey hey hey',\n",
       " 'goodbye kyle',\n",
       " 'n kyle',\n",
       " 'du what be go on',\n",
       " 'n my dad say he can t live here anymore',\n",
       " 'n mr broflovski please',\n",
       " 'kyle s my best friend',\n",
       " 'n i m sorry stan but unfortunately you live in a small minded town fill with ignorant boob',\n",
       " 'n well maybe they ll change',\n",
       " 'n i wouldn t count on it',\n",
       " 'come on boy get in the car',\n",
       " 'n nooo',\n",
       " 'n maybe you can make a difference stan',\n",
       " 'maybe you can get everyone to drive hybrid car',\n",
       " 'until that day we re just gonna have to be with our own kind',\n",
       " 'n i will',\n",
       " 'i will get everyone to drive hybrid car',\n",
       " 'i swear it',\n",
       " 'n well what do you think huh n oh gerald it s beautiful',\n",
       " 'n yeah',\n",
       " 'now this be a house',\n",
       " 'n oh hello there you must be the new neighbor',\n",
       " 'n yes that s right',\n",
       " 'we re the broflovskis',\n",
       " 'n welcome to san francisco',\n",
       " 'i m peter thompson',\n",
       " 'this be my wife nancy jarvis and our son brian thompson jarvis so how do you like the neighborhood n oh it s gorgeous',\n",
       " 'these old house be so neat',\n",
       " 'n yes well unlike most city in san francisco we try to keep all the historic house instead of knock them down',\n",
       " 'n you in here peter n oh hay paul',\n",
       " 'come on in and meet the broflovskis n hello there',\n",
       " 'i m paul mcdonahue',\n",
       " 'this be my wife paulie beaumont mccallahan and our daughter mindy mcdonahue beaumont mccallahan n hello',\n",
       " 'n we notice your hybrid out front that s a v series right n yeah',\n",
       " 'that s right',\n",
       " 'n whoa nice car but we re gonna have to get you into the bt series it emission be actually clean',\n",
       " 'n wow so everyone here drive a hybrid huh n oh of course',\n",
       " 'we re a little more progressive and ahead of the curve here in san francisco',\n",
       " 'ahhhm',\n",
       " 'anyway i m sure you ll find it much well here',\n",
       " 'n yes you ll find that san francisco be pretty much more open mind and grow up than the midwest',\n",
       " 'ahhh ahh ahh',\n",
       " 'we re just a little bit more protective of our environment here in san francisco n yeah',\n",
       " 'we sure be',\n",
       " 'n come on people',\n",
       " 'come on people now',\n",
       " 'n dude what be you do n i m write a song about the importance of hybrid car so maybe people will change their way',\n",
       " 'n that s gay heh',\n",
       " 'n well if i have any chance of get kyle back i have to get people to stop drive suv',\n",
       " 'n why do you want kyle back don t you see how awesome it be without him n you know cartman you may be stoke now but i bet you re gonna find that withuot kyle around to rip on your life be empty and hollow',\n",
       " 'n psh',\n",
       " 'whatever dude',\n",
       " 'i don t need kyle to rip on i ve get butter',\n",
       " 'come on butter you stupid jew',\n",
       " 'n yeah',\n",
       " 'i m a dumb jew',\n",
       " 'n come on people',\n",
       " 'come on people now',\n",
       " 'n all right all you dreamer and creamer out there out there in south park i m gonna play a song by a local artist that really make me think about my impact on the earth',\n",
       " 'this be stan marsh with hey people you ve gotta drive hybrid already',\n",
       " 'n come on now people now people now npeople now come on now people now ngot to drive hybrid people now npeople now people now people now nhybrids be for people now people now ngroup of people drive people now nget a hybrid be good people now',\n",
       " 'n he s right',\n",
       " 'n we have all get to be people now npeople drive hybrid people now npeople now people now hybrid now nhybrid people drive people now',\n",
       " 'ncome on people let s be people now nhybrid people drive people now ncome on everybody be people now n yeah i just want to try to set an example you know n thanks',\n",
       " 'n can you believe some people still don t drive hybrid n i know',\n",
       " 'it s like earth to america hello this be simple stuff here',\n",
       " 'gawl n well from now on i m only go to associate with other hybrid car driver',\n",
       " 'everyone else be just ignorant m kay n good for you',\n",
       " 'n thanks',\n",
       " 'n at least we re smart enough to know good',\n",
       " 'n thanks',\n",
       " 'n come on everybody be people now n and so we be here to honor stan marsh for make south park the city with the high percentage of hybrid owner in the country',\n",
       " 'n if only the rest of the country be as insightful a we be',\n",
       " 'n ah thanks',\n",
       " 'i be really just try to make it so my friend can move back here so if you don t mind i m gonna try to get a hold of him now',\n",
       " 'n great speech',\n",
       " 'n yeah well you know my son be just a little bit more clever than some',\n",
       " 'n hello there i m ranger mcfriendly',\n",
       " 'i m the person who watch over the delicate ecosystem of south park',\n",
       " 'you must be the little boy who write that song',\n",
       " 'n yeah',\n",
       " 'n uhh',\n",
       " 'n ow',\n",
       " 'n you son of a bitch',\n",
       " 'do you have any idea what you ve do',\n",
       " 'n what',\n",
       " 'n come with me',\n",
       " 'n there',\n",
       " 'look',\n",
       " 'n smog there s never be smog over south park before',\n",
       " 'n don t you get it',\n",
       " 'when people drive hybrid car they get so full of themselves they spew ton of self satisfied garbage into the air',\n",
       " 'that isn t smog it s smug',\n",
       " 'n smug n hybrid car make good for emission level but people who drive hybrid car be the lead cause of smug',\n",
       " 'you can have smug in the atmosphere and you know what that lead to glodal laming',\n",
       " 'thanks to your gay little song south park be now the second smuggiest city in america',\n",
       " 'n this be a south park news weather bulletin',\n",
       " 'n it look like we have a smug alert here in south park',\n",
       " 'our own keenan williams have the detail',\n",
       " 'keenan n thanks tom a smug alert be in effect at least tomorrow morning',\n",
       " 'all those hybrid car on the road have cause heavy smug to develop over most of park and jefferson county',\n",
       " 'on the national map we can see smug over denver and develop smug in los angeles',\n",
       " 'however san francisco be once again the smuggiest city in the country',\n",
       " 'n a smuggy day in san francisco town',\n",
       " 'n sheila do you meet gail and brian n no',\n",
       " 'hello how be you n really good really good',\n",
       " 'n hey there',\n",
       " 'alan right n actually it s alain n right right w would would you like red or white wine n can i just get an empty glass n oh',\n",
       " 'sure',\n",
       " 'n can you believe all these imbecile in texas they just put another prisoner to death',\n",
       " 'n so what do you do for fun n we drink and take drug',\n",
       " 'n do you want some acid n oh no thanks',\n",
       " 'we don t do that stuff',\n",
       " 'n you will',\n",
       " 'there s a reason most san francisco kid take a lot of drug',\n",
       " 'n it s the only thing that allow u to deal with our parent all walk around love the smell of their own fart all the time',\n",
       " 'n everything okay in here kyle n yeah fine dad',\n",
       " 'n so much good here with the intellectual isn t it boys wuhh mmmm',\n",
       " 'n well maybe i ll take just half a hit of acid',\n",
       " 'n i want three',\n",
       " 'n no no i m ask if there s a listing for broflovski in san francisco',\n",
       " 'they just move there',\n",
       " 'n haha',\n",
       " 'take that jew boy',\n",
       " 'i guess you heebs can t even play video football',\n",
       " 'n yeah',\n",
       " 'you re right',\n",
       " 'n you know butter you make for a lousy jew',\n",
       " 'n well i m sorry',\n",
       " 'well it s just that i m not jewish and now th n no no',\n",
       " 'don t apologize you asshole',\n",
       " 'n marsh',\n",
       " 'n oh crap ranger mcfriendly',\n",
       " 'n who n you d good come with me to the news station',\n",
       " 'our situation just get a lot bad',\n",
       " 'n i notice it on the computer this morning',\n",
       " 'look here',\n",
       " 'this be the smug over south park',\n",
       " 'it s get big and gain strength',\n",
       " 'n the smug n the smug be get so massive that it s move west and fuse with the san francisco smug',\n",
       " 'here',\n",
       " 'these two smug cloud be combine fuel each other',\n",
       " 'now take a look at this',\n",
       " 'n what be that n it s the smug from george clooney s acceptance speech at the academy award',\n",
       " 'n george clooney s acceptance speech n did you hear it he talk about how people in hollywood be ahead of the curve on social matte',\n",
       " 'he even take credit for the civil right movement look',\n",
       " 'the point be the smug from his acceptance speech have be slowly drift north since he give it and be head straight for the super cell',\n",
       " 'the south park and san francisco smug be already at critical mass',\n",
       " 'if it get hit by george clooney s acceptance speech it will be a disaster of epic proportion',\n",
       " 'the perfect storm of self satisfaction',\n",
       " 'n we ve get to tell the townspeople',\n",
       " 'south park still have a chance to make it through the storm',\n",
       " 'n what about san francisco n kid thanks to your gay little song there s not gonna be a san francisco',\n",
       " 'n soo that s it people',\n",
       " 'when the smug from george clooney s speech hit the san francisco and south park smug we re gonna witness a storm the like of which we ve never see',\n",
       " 'n are you try to tell u the smug from our hybrid be actually gonna kill u all n if the smug cloud remain the way they be yes',\n",
       " 'n this be all stan s fault',\n",
       " 'he write that gay little song and get u to drive those damned hybrid',\n",
       " 'n yeah',\n",
       " 'good go stupid',\n",
       " 'n listen',\n",
       " 'though we all agree this be stan s fault there be still something we can do',\n",
       " 'if we all work together to reduce smugness we might be able to lessen the effect of the storm at least here in our own town',\n",
       " 'n then that s it',\n",
       " 'there s only one way to reduce smugness',\n",
       " 'we ve gotta destroy every hybrid car in town',\n",
       " 'n everyone get your hybrid and meet at dawson s',\n",
       " 'n hey where do you think you re go',\n",
       " 'n i m gonna try and warn kyle to get out of san francisco',\n",
       " 'n oh no you re not',\n",
       " 'your gay little song get u to drive hybrid you re gonna help u get rid of em',\n",
       " 'n how long do we have until the smug cloud collide n not long',\n",
       " 'the smug from george clooney s academy award acceptance speech have already cross into arizona',\n",
       " 'n the hell be that n wow eric',\n",
       " 'you sure be a great guy for do this',\n",
       " 'n i don t have a choice',\n",
       " 'somebody have to get into san francisco and warn kyle s family to get out before the storm hit',\n",
       " 'n but how come we can t just take the bus on into the city n you don t know san francisco butter',\n",
       " 'it be the breeding ground for the hippie movement in the 60',\n",
       " 'those hard core liberal lesbian activist and die hard modern hippy young and old',\n",
       " 'i swear i would never set foot in san francisco',\n",
       " 'god help me',\n",
       " 'all right butter i ll be tether to you through this cord',\n",
       " 'it s my only lifeline so make sure it stay taut',\n",
       " 'if you stop hear my voice for the love of christ start reel me in with all your strength',\n",
       " 'n i will',\n",
       " 'you re really great for go to warn kyle eric',\n",
       " 'n i m not doin it for kyle',\n",
       " 'i can t believe i m actually go to walk through san francisco',\n",
       " 'well here it go',\n",
       " 'n all right',\n",
       " 'all right now get it into the masher',\n",
       " 'hurry up',\n",
       " 'n can t somebody else operate this i can t really reach',\n",
       " 'n well then you shouldn t have write that gay little song shouldn t you have',\n",
       " 'keenan we ve gotten rid of half the hybrid car',\n",
       " 'how be the smug level',\n",
       " 'n they re drop slowly but but we re run out of time',\n",
       " 'n yeah it s like san francisco be more of a european city like paris or milan',\n",
       " 'n butter be you there',\n",
       " 'n i m here eric',\n",
       " 'n i ve start to enter the smug',\n",
       " 'i m about a quarter mile in',\n",
       " 'can you give me an el n you must be near union square',\n",
       " 'did you see a fountain to your left n yes',\n",
       " 'it s just beyond yet another wine and cheese store',\n",
       " 'n wait uhh eh take your next right',\n",
       " 'you ve get to start head west',\n",
       " 'n turn right at o two four niner',\n",
       " 'n that s it',\n",
       " 'that s that the last one',\n",
       " 'n keenan keenan we ve smash the last hybrid',\n",
       " 'n harry the smug from clooney s speech be about to hit the other smug system',\n",
       " 'get everyone inside',\n",
       " 'god help u',\n",
       " 'n butter',\n",
       " 'butter i think i m here',\n",
       " '2419 castillo',\n",
       " 'n that s it',\n",
       " 'eric hurry',\n",
       " 'somethin s goin on out here',\n",
       " 'n mr broflovski',\n",
       " 'mr broflovski there a smug storm',\n",
       " 'we have to go',\n",
       " 'n being smug be a good thing',\n",
       " 'n oh my christ',\n",
       " 'kyle kyle',\n",
       " 'n the acid',\n",
       " 'dude i m totally trip ball',\n",
       " 'n i m totally trip ball',\n",
       " 'i m totally trip ball',\n",
       " 'n we have to get out of here',\n",
       " 'now',\n",
       " 'kyle',\n",
       " 'kyle',\n",
       " 'n and now the bad appear to be over',\n",
       " 'last night s smug storm have leave thousand homeless',\n",
       " 'all across the midwest people be pick up the piece',\n",
       " 'city like denver and south park be heavily damage but still all right',\n",
       " 'however san francisco i m afraid have disappear completely up it own asshole',\n",
       " 'n no n i m sorry stan',\n",
       " 'i m sorry your gay little song kill your friend',\n",
       " 'n hey',\n",
       " 'hey stan',\n",
       " 'you re not gonna believe it',\n",
       " 'you ve gotta come see',\n",
       " 'n what n it s a miracle',\n",
       " 'n kyle',\n",
       " 'n hey stan',\n",
       " 'n dude what happen n we don t know',\n",
       " 'we be all pass out and next thing we know we just wake up on a bus heading here',\n",
       " 'n it s like you have a guardian angel m kay n dude i m so glad you re not dead',\n",
       " 'n so i guess there s nothing leave to do now but rebuild',\n",
       " 'n yeah',\n",
       " 'first off we re all gonna need new car',\n",
       " 'n and let s make sure nobody get a stupid hybrid right n no',\n",
       " 'hybrid car be a good thing',\n",
       " 'n but hybrid car be the lead cause of smug m kay n hybrid car don t cause smugness people do',\n",
       " 'look hybrid car be important',\n",
       " 'they may even save our planet one day',\n",
       " 'what you all need to do be just learn to drive hybrid and not be smug about it',\n",
       " 'n you mean drive in hybrid but not act like we re good than everyone else because of it',\n",
       " 'n yeah',\n",
       " 'n i m',\n",
       " 'i m not ready n i don t think i can do it either',\n",
       " 'n it s simply ask too much',\n",
       " 'n perhaps one day we can learn to drive hybrid without be smug about it but for now the technology be just too much for u',\n",
       " 'n come on everybody',\n",
       " 'let s go buy wasteful gas guzzler',\n",
       " 'n well look like you re back for good huh kyle n yeah i guess so',\n",
       " 'n we just can t get rid of you can we you sneaky jew rat',\n",
       " 'n don t belittle my people you fuck fatass',\n",
       " 'n ah that s good',\n",
       " 'n but the bubble gum prince wasn t afraid',\n",
       " 'he know that the land of chocolate be safe forever and ever',\n",
       " 'goodnight my little angel',\n",
       " 'n staaan',\n",
       " 'n what what n get up',\n",
       " 'get your shoe on',\n",
       " 'gotta get out of here',\n",
       " 'moove',\n",
       " 'take this',\n",
       " 'we ve gotta bring all the water we can',\n",
       " 'shelly go get my gun',\n",
       " 'n whats go on dad n just get the gun',\n",
       " 'n unh come on',\n",
       " 'n awwwgh',\n",
       " 'n oh nooo',\n",
       " 'n kyle',\n",
       " 'what the hell be go on this time',\n",
       " 'n i have no idea',\n",
       " 'n take cover in the community center again',\n",
       " 'n all right everyone get in and get a seal on that door',\n",
       " 'n oh my god stephen we ve left butter',\n",
       " 'n we can t go back out linda',\n",
       " 'it s too late for him',\n",
       " 'n dad dad what the hell be go on',\n",
       " 'n a cartoon',\n",
       " 'a cartoon be about to air on american television with with the muslim prophet mohammad a a character',\n",
       " 'n sso n so',\n",
       " 'stanley mohammad be sacred to the muslim people',\n",
       " 'ever since those cartoon in denmark the rule have change',\n",
       " 'nobody show an image of mohammad anymore',\n",
       " 'n which cartoon be it what cartoon ll be so insensitive a to have mohammad a a character n who do you think',\n",
       " 'the cartoon that s always push button with their careless toilet humor',\n",
       " 'family guy',\n",
       " 'n awww',\n",
       " 'n how could family guy do that n why would family guy so blatantly insult muslim n because family guy doesn t care who they insult',\n",
       " 'they only care about their precious money',\n",
       " 'n oh come on people',\n",
       " 'you really think anybody s gonna be that piss off about a cartoon n wu we ve get the tv working',\n",
       " 'n once again a cartoon depict the muslim prophet mohammad be set to air tonight on family guy',\n",
       " 'n oh randy hold me',\n",
       " 'n the news have already spark a shockwave of protest throughout the muslim world',\n",
       " 'all over the middle east muslim be burn american flag and family guy poster',\n",
       " 'muslim terrorist al zawahri make this statement n we be so super piss off at family guy',\n",
       " 'family guy isn t even that funny of a show',\n",
       " 'a jihad on family guy and the family guy nation',\n",
       " 'n so what happen now n we stay here through the night wait it out to see if they do anything',\n",
       " 'if we re still alive in the morning then we ll know we re not dead',\n",
       " 'n it s okay',\n",
       " 'n we re alive we re alive',\n",
       " 'n everyone',\n",
       " 'everyone listen',\n",
       " 'fox network censor the image of mohammad at the last minute',\n",
       " 'n oh thank god',\n",
       " 'n well it look like we ve dodge a bullet',\n",
       " 'n they censor the image of mohammad how n i tivo every episode',\n",
       " 'we can go to my house and see what they do',\n",
       " 'n okay you guy check it out',\n",
       " 'n you tivo every episode of family guy n dude it s a good show',\n",
       " 'n yeah lot of people like family guy',\n",
       " 'n yich',\n",
       " 'n peter i can t believe you invite your old high school sweetheart over for dinner',\n",
       " 'n you think that s bad remember when i audition to be david hasselhoff s car n hey there knight rider',\n",
       " 'n after those bad guy kitt',\n",
       " 'n yeah but dad why would you invite an ex girlfriend to dinner n perhaps he want to make our mother nervous',\n",
       " 'n nervous like when i have to sell pancake to the school soccer captain n pancake for you captain n i ll be the captain and you ll be tenille',\n",
       " 'n love will keep u together n hehaha heh',\n",
       " 'n yich',\n",
       " 'n but peter i don t wanna cook dinner for your ex girlfriend',\n",
       " 'n well maybe we can just have tea',\n",
       " 'n you mean like the time you have tea with mohammad the prophet of the muslim faith n come on mohammad let s get some tea',\n",
       " 'n try my mr t tea',\n",
       " 'n oh boy be that ever weird',\n",
       " 'anyway i can t believe i invite my old sweetheart to dinner',\n",
       " 'huh',\n",
       " 'n that s it that s all they do n oh man that s not cool',\n",
       " 'seriously that be not cool',\n",
       " 'n what what s the big deal n what s the big deal you guy they just make fun of the religion of an entire group of people',\n",
       " 'what you guy think that s okay',\n",
       " 'do you care at all about people s feeling',\n",
       " 'n since when you care about be sensitive to people s religion cartman',\n",
       " 'n yeah you rip on people s religion all the time',\n",
       " 'n that s different',\n",
       " 'i m just a little boy',\n",
       " 'that s a cartoon',\n",
       " 'million of people watch it',\n",
       " 'how would you feel kyle if there be a cartoon on television that make fun of jew all the time',\n",
       " 'huh',\n",
       " 'n uhhh n i m tell you guy it s wrong',\n",
       " 'it s wrong',\n",
       " 'it s wrong',\n",
       " 'n kyle kyle what be you watchi',\n",
       " 'n hey brian this be like the time i get a job a a carrot cake',\n",
       " 'n gaaah',\n",
       " 'it s family guy',\n",
       " 'quick gerald do something',\n",
       " 'n dad dad jesus christ',\n",
       " 'n it s okay it s dead',\n",
       " 'n you boys know you re not suppose to watch that careless show',\n",
       " 'n mom it be nothing',\n",
       " 'mohammad just stand there and then drink some tea',\n",
       " 'n you boys don t understand anything',\n",
       " 'it s obvious that you all need muslim sensitivity training',\n",
       " 'n welcome to muslim sensitivity training',\n",
       " 'it be important for u to understand why the muslim feel the way they do and why we can never show an image of mohammad',\n",
       " 'n no muslim can t show an image of mohammad',\n",
       " 'n kyle you re not be very sensitive',\n",
       " 'n yeah kyle',\n",
       " 'maybe you think this be funny but the rest of u don t n let s all look at why muslim be upset first of all in the muslim religion you re not allow to have what sex',\n",
       " 'good',\n",
       " 'there s no sex until marriage in the muslim world',\n",
       " 'now this would be fine except that in the muslim religion you also can t',\n",
       " 'anybody jack off',\n",
       " 'okay jack it be strictly forbid in the muslim religion',\n",
       " 'and what do we know about the place muslim live they live in good sand',\n",
       " 'now put yourself in the shoe of a muslim',\n",
       " 'it s friday night but you can t have sex and you can t jack off',\n",
       " 'there s sand in your eye and probably in the crack of your as and then some cartoon come along from a country where people be get lay and mock your prophet',\n",
       " 'well you know what i d be pretty piss off too',\n",
       " 'n mr garrison that be ignorant and racist',\n",
       " 'muslim be mad because of family guy not because they can t jack off',\n",
       " 'right wendy n yeah',\n",
       " 'n attention student proceed to the school gymnasium immediately for an emergency announcement',\n",
       " 'n the hell s go on now',\n",
       " 'n shh',\n",
       " 'quiet student quiet',\n",
       " 'n once again we have just learn that the family guy episode feature mohammad be only part 1 of a two parter',\n",
       " 'and part 2 be go to air next week with mohammad uncensored',\n",
       " 'n what n why would they n fox studio claim that the family guy write staff have demand the mohammad character be see in full view',\n",
       " 'the head of fox have this to say n family guy be our big show',\n",
       " 'if they insist we don t censor their work then we we can t n family guy',\n",
       " 'i damn you to hell',\n",
       " 'n once again bitter riot have start in the middle east this time even more massive',\n",
       " 'and terrorist leader al zawahri have issue a threat n seriously family guy isn t even that well write',\n",
       " 'the joke be all interchangeable and usually irrelevant to the plot',\n",
       " 'when this episode air our retaliation will be massive',\n",
       " 'n retaliation oh my god',\n",
       " 'm kay n goddamned family guy',\n",
       " 'now they re just provoke people',\n",
       " 'it s like they want a holy war',\n",
       " 'n do this mean we don t have school all week n you guy this be serious',\n",
       " 'we have to do something',\n",
       " 'n like what n we have to go to the fox network in l a we have to go and try to get that episode pull',\n",
       " 'you guy with me n dude we can t go anywhere',\n",
       " 'they ve shut down the airport and the bus',\n",
       " 'n then we ll ride our big wheel',\n",
       " 'n to los angeles n if that s what it take yes',\n",
       " 'we have to talk to the network',\n",
       " 'the family guy writer aren t gonna back down',\n",
       " 'n well good for them',\n",
       " 'they shouldn t',\n",
       " 'the writer be stand up and say they aren t go to be intimidate',\n",
       " 'n intimidate',\n",
       " 'be that what you think this be about kyle n all right dude what the hell have get into you',\n",
       " 'i don t trust for one second that your sudden concern for the muslim people be real',\n",
       " 'n all right fine kyle',\n",
       " 'forget the muslim faith for a minute',\n",
       " 'people can get hurt',\n",
       " 'if ten people die because family guy just have to have their little joke will you still think it s funny what if a hundred people die will it be funny then kyle i m go to los angeles',\n",
       " 'i m gonna do whatever i can to get that episode pull before this get out of hand',\n",
       " 'somebody have to speak for the muslim people',\n",
       " 'somebody have to speak for what be right',\n",
       " 'n kyle',\n",
       " 'kyle wake up',\n",
       " 'we have to go',\n",
       " 'the terrorist be attack',\n",
       " 'n dad are you sure there s time n this isn t a joke kyle',\n",
       " 'bomb have already go off in six city',\n",
       " 'n no',\n",
       " 'n wait a minute',\n",
       " 'where s ike',\n",
       " 'n he be just here',\n",
       " 'ike',\n",
       " 'n ike',\n",
       " 'n ike iiike',\n",
       " 'ike',\n",
       " 'n ice cream',\n",
       " 'i want chocolate',\n",
       " 'n ike',\n",
       " 'this way',\n",
       " 'iiike',\n",
       " 'n kyyyle',\n",
       " 'n nooooo',\n",
       " 'n come to try and stop me',\n",
       " 'it isn t gonna work',\n",
       " 'n i didn t come to stop you',\n",
       " 'i',\n",
       " 'i think you re right cartman',\n",
       " 'i want to help you get the family guy episode pull',\n",
       " 'n yeah well i don t need a partner on this',\n",
       " 'especially one who doesn t trust me',\n",
       " 'n look cartman i don t know what be get into you but',\n",
       " 'i i think it s pretty amazing',\n",
       " 'and i think it s real',\n",
       " 'you have to understand why i didn t believe you before',\n",
       " 'n yeah',\n",
       " 'i do understand kyle',\n",
       " 'i ve be do the wrong thing for a long time',\n",
       " 'do thing for my own selfish reason',\n",
       " 'i just wanna do something right you know just this one time',\n",
       " 'n it s a long trip dude',\n",
       " 'you re gonna need help',\n",
       " 'we can try and get the episode pull together',\n",
       " 'n you know we might not even make it into the studio',\n",
       " 'n i know',\n",
       " 'but just like you i feel like i have to try',\n",
       " 'people can really get hurt and a joke just isn t worth that',\n",
       " 'n so what make you change your mind n i get some sound advice from an old friend',\n",
       " 'n well kyle we d good get go',\n",
       " 'n yeah',\n",
       " 'n are you set n i m set',\n",
       " 'let s do this',\n",
       " 'n all right let s roll',\n",
       " 'n people',\n",
       " 'people quiet please',\n",
       " 'we must not panic',\n",
       " 'n well what be we gonna do mayor',\n",
       " 'part 2 of the family guy episode air in six day',\n",
       " 'n i believe that professor thomas from the university have come up with a solution',\n",
       " 'n thank you mayor',\n",
       " 'now look everyone muslim terrorist and extremist be threaten u for what family guy be go to do because they ve wrongly group u together',\n",
       " 'our only hope be to make the muslim extremist know that we have no part in the mohammad episode',\n",
       " 'that even though the episode air we didn t watch it we didn t hear it and we didn t talk about it',\n",
       " 'n so how do we do that n we bury our head',\n",
       " 'in sand',\n",
       " 'we take twenty to twenty five dump truck fill them with sand from monarch lake and then dump the sand along south park avenue',\n",
       " 'by use approximately eighteen dozen shovel we can each dig a hole in the sand stick our head in the hole and then have the person to our left bury them',\n",
       " 'if we can manage to get every person s head bury deep deep in sand before the mohammad episode air we could avoid look like we re responsible for any part of this at all',\n",
       " 'n no no wait a minute that s ridiculous',\n",
       " 'what we need to do be just the opposite',\n",
       " 'freedom of speech be at stake here don t you all see if anything we should all make cartoon of mohammad and show the terrorist and the extremist that we be all united in the belief that every person have a right to say what they want',\n",
       " 'look people it s be real easy for u to stand up for free speech lately',\n",
       " 'for the past few decade we haven t have to risk anything to defend it',\n",
       " 'but those time be go to come',\n",
       " 'and one of those time be right now',\n",
       " 'and if we aren t willing to risk what we have then we just believe in free speech but we don t defend it',\n",
       " 'n i like the sand idea',\n",
       " 'n yeah me too',\n",
       " 'n yeah',\n",
       " 'the sand thing sound a lot simpler',\n",
       " 'n we re gonna need eight dozen shovel and sixteen ton of sand',\n",
       " 'let s move people',\n",
       " 'n we get six day to make it to los angeles',\n",
       " 'if we keep our stop to a minimum we should be able to get the episode pull just in time',\n",
       " 'n yes and in just a few week from now family guy will be off the air forever',\n",
       " 'n off the air but we re just go to try to get the mohammad episode pull',\n",
       " 'n it s simple television economics kyle',\n",
       " 'all it take to kill a show forever be get one episode pull',\n",
       " 'if we convince the network to pull this episode for the sake of muslim then the catholic can demand a show they don t like get pull',\n",
       " 'and then people with disability can demand another show get pull',\n",
       " 'and so on and so on until family guy be no more',\n",
       " 'it s exactly what happen to laverne shirley',\n",
       " 'n whoa whoa wait a minute',\n",
       " 'this isn t what i sign up for',\n",
       " 'i like family guy',\n",
       " 'why do we have to get it off the air forever n because they make f fun of muslim and and that s wrong',\n",
       " 'n but that doesn t mean it have to go off the air',\n",
       " 'you should like that show',\n",
       " 'your sense of humor be just like family guy',\n",
       " 'n don t you ever ever compare me to family guy',\n",
       " 'you hear me kyle',\n",
       " 'compare me to family guy again and so help me i will kill you where you stand',\n",
       " 'n you unbelievable son of a bitch',\n",
       " ...]"
      ]
     },
     "execution_count": 77,
     "metadata": {},
     "output_type": "execute_result"
    }
   ],
   "source": [
    "south"
   ]
  },
  {
   "cell_type": "markdown",
   "metadata": {},
   "source": [
    "# II . Cosine similarity on TF-IDF"
   ]
  },
  {
   "cell_type": "markdown",
   "metadata": {},
   "source": [
    "The TF-IDF weight of a word w in a document d belonging to a corpus is the ratio of the number of times w occurs in the document d to the number of documents in which w occurs at least ones. This weight reflects the specificity and the importance of a word within a document.\n",
    "\n",
    "With cosine similarity, we need to convert sentences into vectors. One way to do that is to use :\n",
    "\n",
    "Bag of words with either TF (term frequency)\n",
    "TF-IDF (term frequency- inverse document frequency).\n",
    "Bag of Words techniques are simple one-hot encoding of the data, on which we can decide to apply a principal component analysis (PCA).\n",
    "\n",
    "TF is good for text similarity in general, but TF-IDF is good for search query relevance. Using cosine distance over TF-IDF vectors is, therefore, suitable for our search query relevance case.\n",
    "\n"
   ]
  },
  {
   "cell_type": "markdown",
   "metadata": {},
   "source": [
    "<img src=\"cosine.png\">"
   ]
  },
  {
   "cell_type": "markdown",
   "metadata": {
    "ExecuteTime": {
     "end_time": "2019-03-28T22:41:20.658594Z",
     "start_time": "2019-03-28T22:41:20.651106Z"
    }
   },
   "source": [
    "**Advantage** : Easy to implement, fast to run\n",
    "\n",
    "**Disdvantage** : State of the art embedding produce better results, do not take order or words into account\n",
    "\n",
    "\n",
    "Extensions : Smooth Inverse Frequency"
   ]
  },
  {
   "cell_type": "markdown",
   "metadata": {},
   "source": [
    "# III. Knowledge-based measures using WordNet"
   ]
  },
  {
   "cell_type": "code",
   "execution_count": null,
   "metadata": {},
   "outputs": [],
   "source": []
  },
  {
   "cell_type": "markdown",
   "metadata": {},
   "source": [
    "# IV . Embedding"
   ]
  },
  {
   "cell_type": "markdown",
   "metadata": {},
   "source": [
    "There are 2 ways to embed a search query :\n",
    "\n",
    "- embed the words using Word2Vec for example (and compute the average embedding of the sentence for example)\n",
    "- embed the whole sentence"
   ]
  },
  {
   "cell_type": "markdown",
   "metadata": {},
   "source": [
    "The first word embedding technique as mentioned above is the simple one-hot encoding, which is called Bag-Of-Words, but this typically creates sparse matrices that are just too large, and on which we apply PCA or T-SNE. We however want to capture some of the connections between the words in our embedding."
   ]
  },
  {
   "cell_type": "markdown",
   "metadata": {},
   "source": [
    "## 1. Word Embedding"
   ]
  },
  {
   "cell_type": "markdown",
   "metadata": {},
   "source": [
    "Word embedding techniques like Word2Vec are interesting since once we've created an embedding, we can locate this vector on a vector space. Word2vec burst onto the scene in 2013 and entirely changed the NLP landscape, demonstrating that deep learning methods could yield incredible results when applied to NLP tasks such as translation, classification, and semantic parsing. Word2vec, and similar approaches such as GloVe, showed that vector representations of words could be used to discover semantic meaning without requiring domain specific knowledge.\n",
    "\n",
    "Skip-gram and CBOW enabled word2vec models to be trained without requiring any labelling of data. The key to both approaches is to use the context of the words in a sentence to train the network. The diagram shows the input and output for each method.\n",
    "\n",
    "For skip-gram, the input of the model is a middle word in a sequence. The network then tries to predict the surrounding words. For CBOW, the input of the model is the surrounding words and the network tries to predict the middle word."
   ]
  },
  {
   "cell_type": "markdown",
   "metadata": {},
   "source": [
    "<img src = \"images/word.png\">"
   ]
  },
  {
   "cell_type": "markdown",
   "metadata": {},
   "source": [
    "Fortunately, we don’t have t train our own CBOW and Skip Gram models in order to obtain word embeddings : it is possible to load pretrained embeddings and use them into our models (https://drive.google.com/file/d/0B7XkCwpI5KDYNlNUTTlSS21pQmM/edit). In order to load the Google Word2Vec embedding dictionnary and select the relevant items corresponding to a preprocessed corpus, it is possible to use a code similar to the following."
   ]
  },
  {
   "cell_type": "code",
   "execution_count": null,
   "metadata": {},
   "outputs": [],
   "source": [
    "def load_google_vec(): \n",
    "    return KeyedVectors.load_word2vec_format('GoogleWord2Vec300.bin', binary=True)\n",
    "\n",
    "def prepare_embedding(max_features, max_sentence_len, embed_dim, corpus):\n",
    "\n",
    "    word2vec = load_google_vec()\n",
    "    corpus_preprocessed, train_word_index = preprocess(X, max_features, max_sentence_len)\n",
    "    train_embedding_weights = np.zeros((len(train_word_index)+1, embed_dim))\n",
    "\n",
    "    for word,index in train_word_index.items():\n",
    "        train_embedding_weights[index,:] = word2vec[word] if word in word2vec else np.random.rand(embed_dim)\n",
    "    \n",
    "    word_vector_dict = dict(zip(pd.Series(list(train_word_index.keys())),pd.Series(list(train_word_index.keys())).apply(lambda x: train_embedding_weights[train_word_index[x]])))\n",
    "    \n",
    "    return train_embedding_weights, train_word_index, word_vector_dict"
   ]
  },
  {
   "cell_type": "markdown",
   "metadata": {},
   "source": [
    "***Advantage :***\n",
    "\n",
    "Pre-trained model, should not perform too bad\n",
    "\n",
    "***Disadvantage :***\n",
    "\n",
    "- They ignore word ordering\n",
    "- It's difficult to capture the semantic meaning of a sentence\n",
    "- Sentence length becomes problematic. If we just use word embeddings, it can be difficult to discover if sentences of different lengths are similar\n",
    "- They introduce extra complexity\n"
   ]
  },
  {
   "cell_type": "markdown",
   "metadata": {},
   "source": [
    "Limitations of word embedding can be overcome using :\n",
    "\n",
    "the average embedding vector of all words of a sentence\n",
    "more advanced method which attempts to add a weighting function to word embeddings which down-weights common words. This latter approach is known as Smooth Inverse Frequency (SIF)."
   ]
  },
  {
   "cell_type": "markdown",
   "metadata": {},
   "source": [
    "## 2. Rolling Window Embedding"
   ]
  },
  {
   "cell_type": "markdown",
   "metadata": {},
   "source": [
    "As mentioned above, one of the issues is to encode the whole sentence, or a given sequence of words. A first way to approach this is to consider a fixed length of words, embed it (using onversation with 250 words. Take a window of 10 words, encode them, gives a vector, move to encode the 10 next, with padding of 4, until the end. We end up with a bunch a vectors, and then do the search. This enhances the accuracy of semantic similarity because the scope is smaller. "
   ]
  },
  {
   "cell_type": "markdown",
   "metadata": {
    "ExecuteTime": {
     "end_time": "2019-03-28T22:30:01.969761Z",
     "start_time": "2019-03-28T22:30:01.964747Z"
    }
   },
   "source": [
    "<img src = \"images/rw.png\">"
   ]
  },
  {
   "cell_type": "markdown",
   "metadata": {},
   "source": [
    "This architecture also allows to highlight the match."
   ]
  },
  {
   "cell_type": "code",
   "execution_count": null,
   "metadata": {},
   "outputs": [],
   "source": []
  },
  {
   "cell_type": "markdown",
   "metadata": {},
   "source": [
    "## 3. Sentence Embedding"
   ]
  },
  {
   "cell_type": "markdown",
   "metadata": {},
   "source": [
    "### a. Test the embedding"
   ]
  },
  {
   "cell_type": "code",
   "execution_count": 78,
   "metadata": {
    "ExecuteTime": {
     "end_time": "2019-03-28T23:12:59.500146Z",
     "start_time": "2019-03-28T23:12:54.110792Z"
    }
   },
   "outputs": [],
   "source": [
    "# Download the USE module\n",
    "module_url = \"https://tfhub.dev/google/universal-sentence-encoder-large/3\" \n",
    "embed = hub.Module(module_url)"
   ]
  },
  {
   "cell_type": "code",
   "execution_count": 79,
   "metadata": {
    "ExecuteTime": {
     "end_time": "2019-03-28T23:13:00.429555Z",
     "start_time": "2019-03-28T23:13:00.420420Z"
    }
   },
   "outputs": [],
   "source": [
    "# Generate the embedding and print out some descriptive data\n",
    "def generate_embedding(messages):\n",
    "    with tf.Session() as session:\n",
    "        session.run([tf.global_variables_initializer(), tf.tables_initializer()])\n",
    "        message_embeddings = session.run(embed(messages))\n",
    "    for i, message_embedding in enumerate(np.array(message_embeddings).tolist()):\n",
    "        print(\"Message: {}\".format(messages[i]))\n",
    "        print(\"Embedding size: {}\".format(len(message_embedding)))\n",
    "        message_embedding_snippet = \", \".join(\n",
    "            (str(x) for x in message_embedding[:3]))\n",
    "        print(\"Embedding: [{}, ...]\\n\".format(message_embedding_snippet))\n",
    "    return(message_embeddings[0])"
   ]
  },
  {
   "cell_type": "markdown",
   "metadata": {},
   "source": [
    "Let's try to generate a first embedding :"
   ]
  },
  {
   "cell_type": "code",
   "execution_count": 80,
   "metadata": {
    "ExecuteTime": {
     "end_time": "2019-03-28T23:13:08.425929Z",
     "start_time": "2019-03-28T23:13:01.821312Z"
    }
   },
   "outputs": [
    {
     "name": "stdout",
     "output_type": "stream",
     "text": [
      "INFO:tensorflow:Saver not created because there are no variables in the graph to restore\n"
     ]
    },
    {
     "name": "stderr",
     "output_type": "stream",
     "text": [
      "I0329 00:13:06.389371 4579259840 tf_logging.py:115] Saver not created because there are no variables in the graph to restore\n"
     ]
    },
    {
     "name": "stdout",
     "output_type": "stream",
     "text": [
      "Message: How can I reset my password\n",
      "Embedding size: 512\n",
      "Embedding: [0.025553924962878227, -0.034720830619335175, 0.0020717347506433725, ...]\n",
      "\n"
     ]
    }
   ],
   "source": [
    "emb = generate_embedding([\"How can I reset my password\"])"
   ]
  },
  {
   "cell_type": "markdown",
   "metadata": {},
   "source": [
    "### b. Embed the whole file"
   ]
  },
  {
   "cell_type": "code",
   "execution_count": 81,
   "metadata": {
    "ExecuteTime": {
     "end_time": "2019-03-28T23:13:10.604463Z",
     "start_time": "2019-03-28T23:13:09.002512Z"
    }
   },
   "outputs": [],
   "source": [
    "session = tf.InteractiveSession()\n",
    "session.run(tf.global_variables_initializer())\n",
    "session.run(tf.tables_initializer())"
   ]
  },
  {
   "cell_type": "code",
   "execution_count": 82,
   "metadata": {
    "ExecuteTime": {
     "end_time": "2019-03-28T23:13:13.278764Z",
     "start_time": "2019-03-28T23:13:11.863253Z"
    }
   },
   "outputs": [
    {
     "name": "stdout",
     "output_type": "stream",
     "text": [
      "INFO:tensorflow:Saver not created because there are no variables in the graph to restore\n"
     ]
    },
    {
     "name": "stderr",
     "output_type": "stream",
     "text": [
      "I0329 00:13:13.072659 4579259840 tf_logging.py:115] Saver not created because there are no variables in the graph to restore\n"
     ]
    }
   ],
   "source": [
    "sts_input1 = tf.placeholder(tf.string, shape=(None))\n",
    "\n",
    "# For evaluation we use exactly normalized rather than\n",
    "# approximately normalized.\n",
    "sts_encode1 = tf.nn.l2_normalize(embed(sts_input1), axis=1)\n",
    "\n",
    "def get_embeds(session, text):\n",
    "    \"\"\"Returns the similarity scores\"\"\"\n",
    "    embed = session.run(\n",
    "        [sts_encode1],\n",
    "        feed_dict={\n",
    "            sts_input1: text\n",
    "        })\n",
    "    return(embed[0][0])"
   ]
  },
  {
   "cell_type": "code",
   "execution_count": 84,
   "metadata": {
    "ExecuteTime": {
     "end_time": "2019-03-28T23:15:46.104453Z",
     "start_time": "2019-03-28T23:14:23.275983Z"
    },
    "scrolled": true
   },
   "outputs": [
    {
     "name": "stdout",
     "output_type": "stream",
     "text": [
      "CPU times: user 8 µs, sys: 2 µs, total: 10 µs\n",
      "Wall time: 19.1 µs\n"
     ]
    }
   ],
   "source": [
    "%time\n",
    "embed_south = []\n",
    "\n",
    "for message in range(len(south)) :\n",
    "    embed_south.append(get_embeds(session, [south[message]]))"
   ]
  },
  {
   "cell_type": "code",
   "execution_count": 85,
   "metadata": {
    "ExecuteTime": {
     "end_time": "2019-03-28T23:15:46.188240Z",
     "start_time": "2019-03-28T23:15:46.109562Z"
    }
   },
   "outputs": [
    {
     "data": {
      "text/html": [
       "<div>\n",
       "<style scoped>\n",
       "    .dataframe tbody tr th:only-of-type {\n",
       "        vertical-align: middle;\n",
       "    }\n",
       "\n",
       "    .dataframe tbody tr th {\n",
       "        vertical-align: top;\n",
       "    }\n",
       "\n",
       "    .dataframe thead th {\n",
       "        text-align: right;\n",
       "    }\n",
       "</style>\n",
       "<table border=\"1\" class=\"dataframe\">\n",
       "  <thead>\n",
       "    <tr style=\"text-align: right;\">\n",
       "      <th></th>\n",
       "      <th>0</th>\n",
       "      <th>embed</th>\n",
       "    </tr>\n",
       "  </thead>\n",
       "  <tbody>\n",
       "    <tr>\n",
       "      <th>0</th>\n",
       "      <td>you guy you guy</td>\n",
       "      <td>[-0.043390382, -0.027857497, 0.03543695, -0.01...</td>\n",
       "    </tr>\n",
       "    <tr>\n",
       "      <th>1</th>\n",
       "      <td>chef be go away</td>\n",
       "      <td>[-0.04750077, -0.033675905, 0.07155576, 0.0198...</td>\n",
       "    </tr>\n",
       "    <tr>\n",
       "      <th>2</th>\n",
       "      <td>n go away for how long n forever</td>\n",
       "      <td>[0.0413956, 0.00991075, 0.051509243, -0.021212...</td>\n",
       "    </tr>\n",
       "    <tr>\n",
       "      <th>3</th>\n",
       "      <td>n i m sorry boy</td>\n",
       "      <td>[0.042864855, -0.0409749, -0.007703394, 0.0196...</td>\n",
       "    </tr>\n",
       "    <tr>\n",
       "      <th>4</th>\n",
       "      <td>n chef say he s be bore so he join a group cal...</td>\n",
       "      <td>[-0.09336378, 0.07813314, 0.066432685, -0.0846...</td>\n",
       "    </tr>\n",
       "  </tbody>\n",
       "</table>\n",
       "</div>"
      ],
      "text/plain": [
       "                                                   0  \\\n",
       "0                                    you guy you guy   \n",
       "1                                    chef be go away   \n",
       "2                   n go away for how long n forever   \n",
       "3                                    n i m sorry boy   \n",
       "4  n chef say he s be bore so he join a group cal...   \n",
       "\n",
       "                                               embed  \n",
       "0  [-0.043390382, -0.027857497, 0.03543695, -0.01...  \n",
       "1  [-0.04750077, -0.033675905, 0.07155576, 0.0198...  \n",
       "2  [0.0413956, 0.00991075, 0.051509243, -0.021212...  \n",
       "3  [0.042864855, -0.0409749, -0.007703394, 0.0196...  \n",
       "4  [-0.09336378, 0.07813314, 0.066432685, -0.0846...  "
      ]
     },
     "execution_count": 85,
     "metadata": {},
     "output_type": "execute_result"
    }
   ],
   "source": [
    "south_df = pd.DataFrame(south)\n",
    "south_df['embed'] = embed_south\n",
    "south_df.head()"
   ]
  },
  {
   "cell_type": "code",
   "execution_count": 86,
   "metadata": {
    "ExecuteTime": {
     "end_time": "2019-03-28T23:15:46.217451Z",
     "start_time": "2019-03-28T23:15:46.195380Z"
    }
   },
   "outputs": [],
   "source": [
    "south_df['embed'] = south_df['embed'].apply(lambda x : x.astype('float'))"
   ]
  },
  {
   "cell_type": "code",
   "execution_count": 87,
   "metadata": {
    "ExecuteTime": {
     "end_time": "2019-03-28T23:15:46.254237Z",
     "start_time": "2019-03-28T23:15:46.223537Z"
    }
   },
   "outputs": [
    {
     "data": {
      "text/html": [
       "<div>\n",
       "<style scoped>\n",
       "    .dataframe tbody tr th:only-of-type {\n",
       "        vertical-align: middle;\n",
       "    }\n",
       "\n",
       "    .dataframe tbody tr th {\n",
       "        vertical-align: top;\n",
       "    }\n",
       "\n",
       "    .dataframe thead th {\n",
       "        text-align: right;\n",
       "    }\n",
       "</style>\n",
       "<table border=\"1\" class=\"dataframe\">\n",
       "  <thead>\n",
       "    <tr style=\"text-align: right;\">\n",
       "      <th></th>\n",
       "      <th>0</th>\n",
       "      <th>embed</th>\n",
       "    </tr>\n",
       "  </thead>\n",
       "  <tbody>\n",
       "    <tr>\n",
       "      <th>0</th>\n",
       "      <td>you guy you guy</td>\n",
       "      <td>[-0.04339038208127022, -0.027857497334480286, ...</td>\n",
       "    </tr>\n",
       "    <tr>\n",
       "      <th>1</th>\n",
       "      <td>chef be go away</td>\n",
       "      <td>[-0.047500770539045334, -0.0336759053170681, 0...</td>\n",
       "    </tr>\n",
       "    <tr>\n",
       "      <th>2</th>\n",
       "      <td>n go away for how long n forever</td>\n",
       "      <td>[0.04139560088515282, 0.009910750202834606, 0....</td>\n",
       "    </tr>\n",
       "    <tr>\n",
       "      <th>3</th>\n",
       "      <td>n i m sorry boy</td>\n",
       "      <td>[0.042864855378866196, -0.040974900126457214, ...</td>\n",
       "    </tr>\n",
       "    <tr>\n",
       "      <th>4</th>\n",
       "      <td>n chef say he s be bore so he join a group cal...</td>\n",
       "      <td>[-0.09336377680301666, 0.07813314348459244, 0....</td>\n",
       "    </tr>\n",
       "  </tbody>\n",
       "</table>\n",
       "</div>"
      ],
      "text/plain": [
       "                                                   0  \\\n",
       "0                                    you guy you guy   \n",
       "1                                    chef be go away   \n",
       "2                   n go away for how long n forever   \n",
       "3                                    n i m sorry boy   \n",
       "4  n chef say he s be bore so he join a group cal...   \n",
       "\n",
       "                                               embed  \n",
       "0  [-0.04339038208127022, -0.027857497334480286, ...  \n",
       "1  [-0.047500770539045334, -0.0336759053170681, 0...  \n",
       "2  [0.04139560088515282, 0.009910750202834606, 0....  \n",
       "3  [0.042864855378866196, -0.040974900126457214, ...  \n",
       "4  [-0.09336377680301666, 0.07813314348459244, 0....  "
      ]
     },
     "execution_count": 87,
     "metadata": {},
     "output_type": "execute_result"
    }
   ],
   "source": [
    "south_df.head()"
   ]
  },
  {
   "cell_type": "markdown",
   "metadata": {},
   "source": [
    "### c. Define semantic similarity metric"
   ]
  },
  {
   "cell_type": "code",
   "execution_count": 88,
   "metadata": {
    "ExecuteTime": {
     "end_time": "2019-03-28T23:15:48.705301Z",
     "start_time": "2019-03-28T23:15:46.261841Z"
    }
   },
   "outputs": [
    {
     "name": "stdout",
     "output_type": "stream",
     "text": [
      "INFO:tensorflow:Saver not created because there are no variables in the graph to restore\n"
     ]
    },
    {
     "name": "stderr",
     "output_type": "stream",
     "text": [
      "I0329 00:15:48.271921 4579259840 tf_logging.py:115] Saver not created because there are no variables in the graph to restore\n"
     ]
    }
   ],
   "source": [
    "sts_input1 = tf.placeholder(tf.string, shape=(None))\n",
    "sts_encode2 = tf.placeholder(tf.float32)\n",
    "\n",
    "# For evaluation we use exactly normalized rather than\n",
    "# approximately normalized.\n",
    "sts_encode1 = tf.nn.l2_normalize(embed(sts_input1), axis=1)\n",
    "\n",
    "cosine_similarities = tf.reduce_sum(tf.multiply(sts_encode1, sts_encode2), axis=1)\n",
    "clip_cosine_similarities = tf.clip_by_value(cosine_similarities, 0.0, 1.0)\n",
    "sim_scores = 1.0 - tf.divide(tf.acos(clip_cosine_similarities), 3.14)\n",
    "\n",
    "def get_scores(session, text_a, text_b):\n",
    "    \"\"\"Returns the similarity scores\"\"\"\n",
    "    scores= session.run(\n",
    "        [sim_scores],\n",
    "        feed_dict={\n",
    "            sts_input1: text_a,\n",
    "            sts_encode2: text_b\n",
    "        })\n",
    "    return(scores)"
   ]
  },
  {
   "cell_type": "code",
   "execution_count": 89,
   "metadata": {
    "ExecuteTime": {
     "end_time": "2019-03-28T23:15:48.726490Z",
     "start_time": "2019-03-28T23:15:48.710922Z"
    }
   },
   "outputs": [],
   "source": [
    "def get_results(sessions, sentence, num):\n",
    "    examples = [e for e in south_df['embed']]\n",
    "    scores = get_scores(session, [sentence], examples)\n",
    "    south_df['cosine'] = scores[0].tolist()\n",
    "    return(south_df.sort_values('cosine', ascending=False).head(n=num))"
   ]
  },
  {
   "cell_type": "code",
   "execution_count": 90,
   "metadata": {
    "ExecuteTime": {
     "end_time": "2019-03-28T23:15:54.566737Z",
     "start_time": "2019-03-28T23:15:54.553268Z"
    }
   },
   "outputs": [],
   "source": [
    "def print_res(test, num=20):\n",
    "    res = get_results(session, test, num).round(4)\n",
    "    res = (res.set_index('cosine'))\n",
    "    print('{}\\n'.format(test))\n",
    "    print('\\x1b[31mScore{:<1} \\x1b[0m: \\x1b[34m Matching sentence\\x1b[0m'.format(''))\n",
    "    for i in res.iterrows():\n",
    "        print('\\x1b[31m{:<6} \\x1b[0m: \\x1b[0m \\x1b[34m{}\\x1b[0m'.format(i[0], i[1][0]))"
   ]
  },
  {
   "cell_type": "code",
   "execution_count": 95,
   "metadata": {
    "ExecuteTime": {
     "end_time": "2019-03-28T23:17:39.149941Z",
     "start_time": "2019-03-28T23:17:39.060064Z"
    }
   },
   "outputs": [
    {
     "name": "stdout",
     "output_type": "stream",
     "text": [
      "I'm unemployed\n",
      "\n",
      "\u001b[31mScore  \u001b[0m: \u001b[34m Matching sentence\u001b[0m\n",
      "\u001b[31m0.7328 \u001b[0m: \u001b[0m \u001b[34mi need to shape up and find a new job quick\u001b[0m\n",
      "\u001b[31m0.7085 \u001b[0m: \u001b[0m \u001b[34mthe rent s due at the end of the month and i don t have any money\u001b[0m\n",
      "\u001b[31m0.6875 \u001b[0m: \u001b[0m \u001b[34mand if you all don t want to work tomorrow you can just find other job\u001b[0m\n",
      "\u001b[31m0.649  \u001b[0m: \u001b[0m \u001b[34mn i shouldn t even be in the office still\u001b[0m\n",
      "\u001b[31m0.6432 \u001b[0m: \u001b[0m \u001b[34mi should become a writer\u001b[0m\n",
      "\u001b[31m0.6397 \u001b[0m: \u001b[0m \u001b[34mif i just write a book about my life i can get it publish and then make plenty of money to pay rent\u001b[0m\n",
      "\u001b[31m0.6378 \u001b[0m: \u001b[0m \u001b[34mdo thing for my own selfish reason\u001b[0m\n",
      "\u001b[31m0.637  \u001b[0m: \u001b[0m \u001b[34mn hey brian this be like the time i get a job a a carrot cake\u001b[0m\n",
      "\u001b[31m0.6357 \u001b[0m: \u001b[0m \u001b[34mn be it work be it work n yes\u001b[0m\n",
      "\u001b[31m0.6346 \u001b[0m: \u001b[0m \u001b[34mquiet student quiet\u001b[0m\n",
      "\u001b[31m0.6345 \u001b[0m: \u001b[0m \u001b[34mnow they know all they have to do be refuse to work and they can get whatever they want\u001b[0m\n",
      "\u001b[31m0.6319 \u001b[0m: \u001b[0m \u001b[34mi make them leave\u001b[0m\n",
      "\u001b[31m0.6319 \u001b[0m: \u001b[0m \u001b[34mi run this network not you guy\u001b[0m\n",
      "\u001b[31m0.6311 \u001b[0m: \u001b[0m \u001b[34mn i ll do everything i can\u001b[0m\n",
      "\u001b[31m0.6298 \u001b[0m: \u001b[0m \u001b[34mit s suppose to be half day friday\u001b[0m\n",
      "\u001b[31m0.6275 \u001b[0m: \u001b[0m \u001b[34mi ve learn how to make the family guy write staff stop working\u001b[0m\n",
      "\u001b[31m0.6258 \u001b[0m: \u001b[0m \u001b[34mthey just stop work\u001b[0m\n",
      "\u001b[31m0.6246 \u001b[0m: \u001b[0m \u001b[34mn hello i be american\u001b[0m\n",
      "\u001b[31m0.6231 \u001b[0m: \u001b[0m \u001b[34mi m not ready n i don t think i can do it either\u001b[0m\n",
      "\u001b[31m0.6222 \u001b[0m: \u001b[0m \u001b[34mi m just a little boy\u001b[0m\n"
     ]
    }
   ],
   "source": [
    "print_res(\"I'm unemployed\")"
   ]
  },
  {
   "cell_type": "markdown",
   "metadata": {},
   "source": [
    "### d. Live search prediction"
   ]
  },
  {
   "cell_type": "code",
   "execution_count": 96,
   "metadata": {
    "ExecuteTime": {
     "end_time": "2019-03-28T23:17:52.514973Z",
     "start_time": "2019-03-28T23:17:52.506787Z"
    }
   },
   "outputs": [],
   "source": [
    "@register_cell_magic\n",
    "def search(line, cell):\n",
    "    return print_res(cell)"
   ]
  },
  {
   "cell_type": "code",
   "execution_count": 97,
   "metadata": {
    "ExecuteTime": {
     "end_time": "2019-03-28T23:18:00.778421Z",
     "start_time": "2019-03-28T23:18:00.695393Z"
    }
   },
   "outputs": [
    {
     "name": "stdout",
     "output_type": "stream",
     "text": [
      "\"I'm unemployed\"\n",
      "\n",
      "\u001b[31mScore  \u001b[0m: \u001b[34m Matching sentence\u001b[0m\n",
      "\u001b[31m0.7328 \u001b[0m: \u001b[0m \u001b[34mi need to shape up and find a new job quick\u001b[0m\n",
      "\u001b[31m0.7085 \u001b[0m: \u001b[0m \u001b[34mthe rent s due at the end of the month and i don t have any money\u001b[0m\n",
      "\u001b[31m0.6875 \u001b[0m: \u001b[0m \u001b[34mand if you all don t want to work tomorrow you can just find other job\u001b[0m\n",
      "\u001b[31m0.649  \u001b[0m: \u001b[0m \u001b[34mn i shouldn t even be in the office still\u001b[0m\n",
      "\u001b[31m0.6432 \u001b[0m: \u001b[0m \u001b[34mi should become a writer\u001b[0m\n",
      "\u001b[31m0.6397 \u001b[0m: \u001b[0m \u001b[34mif i just write a book about my life i can get it publish and then make plenty of money to pay rent\u001b[0m\n",
      "\u001b[31m0.6378 \u001b[0m: \u001b[0m \u001b[34mdo thing for my own selfish reason\u001b[0m\n",
      "\u001b[31m0.637  \u001b[0m: \u001b[0m \u001b[34mn hey brian this be like the time i get a job a a carrot cake\u001b[0m\n",
      "\u001b[31m0.6357 \u001b[0m: \u001b[0m \u001b[34mn be it work be it work n yes\u001b[0m\n",
      "\u001b[31m0.6346 \u001b[0m: \u001b[0m \u001b[34mquiet student quiet\u001b[0m\n",
      "\u001b[31m0.6345 \u001b[0m: \u001b[0m \u001b[34mnow they know all they have to do be refuse to work and they can get whatever they want\u001b[0m\n",
      "\u001b[31m0.6319 \u001b[0m: \u001b[0m \u001b[34mi make them leave\u001b[0m\n",
      "\u001b[31m0.6319 \u001b[0m: \u001b[0m \u001b[34mi run this network not you guy\u001b[0m\n",
      "\u001b[31m0.6311 \u001b[0m: \u001b[0m \u001b[34mn i ll do everything i can\u001b[0m\n",
      "\u001b[31m0.6298 \u001b[0m: \u001b[0m \u001b[34mit s suppose to be half day friday\u001b[0m\n",
      "\u001b[31m0.6275 \u001b[0m: \u001b[0m \u001b[34mi ve learn how to make the family guy write staff stop working\u001b[0m\n",
      "\u001b[31m0.6258 \u001b[0m: \u001b[0m \u001b[34mthey just stop work\u001b[0m\n",
      "\u001b[31m0.6246 \u001b[0m: \u001b[0m \u001b[34mn hello i be american\u001b[0m\n",
      "\u001b[31m0.6231 \u001b[0m: \u001b[0m \u001b[34mi m not ready n i don t think i can do it either\u001b[0m\n",
      "\u001b[31m0.6222 \u001b[0m: \u001b[0m \u001b[34mi m just a little boy\u001b[0m\n"
     ]
    }
   ],
   "source": [
    "%%search\n",
    "\"I'm unemployed\""
   ]
  },
  {
   "cell_type": "markdown",
   "metadata": {},
   "source": [
    "Sources and resources : \n",
    "- Different Techniques : http://www.lumenai.fr/blog/quick-review-on-text-clustering-and-text-similarity-approaches\n",
    "- LSI (1) : https://nlp.stanford.edu/IR-book/html/htmledition/latent-semantic-indexing-1.html\n",
    "- LSI (2) : https://www.datacamp.com/community/tutorials/discovering-hidden-topics-python\n",
    "- WordNet : https://www.coursera.org/lecture/python-text-mining/semantic-text-similarity-DpNWl\n",
    "- Universal Sentence Encoding (1) : https://colab.research.google.com/github/tensorflow/hub/blob/master/examples/colab/semantic_similarity_with_tf_hub_universal_encoder.ipynb#scrollTo=zwty8Z6mAkdV\n",
    "- Universal Sentence Encoding (2) : https://arxiv.org/pdf/1804.07754.pdf\n",
    "- Semantic Similarity in Python : https://towardsdatascience.com/semantic-code-search-3cd6d244a39c\n",
    "- Github repository with useful content: https://github.com/hamelsmu/code_search/tree/master/notebooks\n",
    "- Automate Customer Support (1) : https://blog.floydhub.com/automate-customer-support-part-one/\n",
    "- Automate Customer Support (2) : https://blog.floydhub.com/automate-customer-support-part-two/\n",
    "- https://github.com/choran/sentence_embeddings"
   ]
  },
  {
   "cell_type": "code",
   "execution_count": null,
   "metadata": {},
   "outputs": [],
   "source": []
  }
 ],
 "metadata": {
  "kernelspec": {
   "display_name": "Python 3",
   "language": "python",
   "name": "python3"
  },
  "language_info": {
   "codemirror_mode": {
    "name": "ipython",
    "version": 3
   },
   "file_extension": ".py",
   "mimetype": "text/x-python",
   "name": "python",
   "nbconvert_exporter": "python",
   "pygments_lexer": "ipython3",
   "version": "3.6.5"
  },
  "latex_envs": {
   "LaTeX_envs_menu_present": true,
   "autoclose": false,
   "autocomplete": true,
   "bibliofile": "biblio.bib",
   "cite_by": "apalike",
   "current_citInitial": 1,
   "eqLabelWithNumbers": true,
   "eqNumInitial": 1,
   "hotkeys": {
    "equation": "Ctrl-E",
    "itemize": "Ctrl-I"
   },
   "labels_anchors": false,
   "latex_user_defs": false,
   "report_style_numbering": false,
   "user_envs_cfg": false
  }
 },
 "nbformat": 4,
 "nbformat_minor": 2
}
